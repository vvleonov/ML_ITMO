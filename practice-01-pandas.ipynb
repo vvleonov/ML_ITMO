{
  "nbformat": 4,
  "nbformat_minor": 0,
  "metadata": {
    "kernelspec": {
      "display_name": "Python 3",
      "language": "python",
      "name": "python3"
    },
    "language_info": {
      "codemirror_mode": {
        "name": "ipython",
        "version": 3
      },
      "file_extension": ".py",
      "mimetype": "text/x-python",
      "name": "python",
      "nbconvert_exporter": "python",
      "pygments_lexer": "ipython3",
      "version": "3.9.5"
    },
    "varInspector": {
      "cols": {
        "lenName": 16,
        "lenType": 16,
        "lenVar": 40
      },
      "kernels_config": {
        "python": {
          "delete_cmd_postfix": "",
          "delete_cmd_prefix": "del ",
          "library": "var_list.py",
          "varRefreshCmd": "print(var_dic_list())"
        },
        "r": {
          "delete_cmd_postfix": ") ",
          "delete_cmd_prefix": "rm(",
          "library": "var_list.r",
          "varRefreshCmd": "cat(var_dic_list()) "
        }
      },
      "types_to_exclude": [
        "module",
        "function",
        "builtin_function_or_method",
        "instance",
        "_Feature"
      ],
      "window_display": false
    },
    "colab": {
      "provenance": []
    }
  },
  "cells": [
    {
      "cell_type": "markdown",
      "metadata": {
        "id": "HcF9My_FhLuk"
      },
      "source": [
        "## Технологии машинного обучения\n",
        "\n",
        "## Практическая 1. Введение в Pandas\n",
        "\n"
      ]
    },
    {
      "cell_type": "markdown",
      "metadata": {
        "id": "G64TptyJhLuo"
      },
      "source": [
        "### О задании\n",
        "\n",
        "Задание состоит из двух разделов, посвященных работе с табличными данными с помощью библиотеки pandas и визуализации с помощью matplotlib. В **первом разделе** вам предстоит выполнить базовые задания с помощью вышеуказанных библиотек, а во **втором разделе** распределить студентов по курсам.\n",
        "\n",
        "Задание направлено на освоение jupyter notebook, библиотек pandas и matplotlib.\n",
        "\n",
        "### Оценивание и штрафы\n",
        "Каждая из задач имеет определенную «стоимость» (указана в скобках около задачи). Максимально допустимая оценка за работу — 10 баллов. Проверяющий имеет право снизить оценку за неэффективную реализацию или неопрятные графики.\n",
        "\n",
        "**Обратите внимание**, что в каждом разделе практического задания есть оцениваниемые задачи и есть вопросы. Вопросы дополняют задачи и направлены на то, чтобы проинтерпретировать или обосновать происходящее. Код без интерпретации не имеет смысла, поэтому отвечать на вопросы обязательно — за отсутствие ответов мы будем снижать баллы за задачи.\n"
      ]
    },
    {
      "cell_type": "markdown",
      "metadata": {
        "id": "BaXlfHE_hLup"
      },
      "source": [
        "## 0. Введение"
      ]
    },
    {
      "cell_type": "markdown",
      "metadata": {
        "id": "wirAvJNxhLup"
      },
      "source": [
        "Сейчас мы находимся в jupyter-ноутбуке на онлайн платформе Google Colab. Это удобная среда для написания кода, проведения экспериментов, изучения данных, построения визуализаций и других нужд, не связанных с написанием production-кода. Google Colab уже обеспечивает наше окружение почти всеми необходимыми библиотеками и поэтому в большинстве случаев ничего устанавливать дополнительно не будет нужно.\n",
        "\n",
        "При использовании вы увидете много сходств с jupyter ноутбуком. Одним из преимуществ является доступность GPU, соответствующую опцию можно активировать в настройках сервиса. При желании вы сможете найти в интернете много туториалов по использованию или разобраться самостоятельно =)\n",
        "\n",
        "Для справки, jupyter-ноутбук в Google Colab запущен на виртуальной машине под управлением ОС Ubuntu. Из ячеек кода ноутбука можно передавать напрямую команды bash операционной системе через восклицательный знак:\n",
        "\n",
        "```\n",
        "!<your command>\n",
        "```\n",
        "\n",
        "Таким образом можно устанавливать дополнительные пакеты Python, которых нет в данном окружении по умолчанию.\n",
        "\n",
        "Ноутбук состоит из ячеек, каждая из которых может быть либо ячейкой с кодом, либо ячейкой с текстом размеченным и неразмеченным. Текст поддерживает markdown-разметку и формулы в Latex.\n",
        "\n",
        "Для работы с содержимым ячейки используется *режим редактирования* (*Edit mode*, включается нажатием клавиши **Enter** после выбора ячейки), а для навигации между ячейками искользуется *командный режим* (*Command mode*, включается нажатием клавиши **Esc**). Тип ячейки можно задать в командном режиме либо с помощью горячих клавиш (**y** to code, **m** to markdown, **r** to edit raw text), либо в меню *Cell -> Cell type*. \n",
        "\n",
        "После заполнения ячейки нужно нажать *Shift + Enter*, эта команда обработает содержимое ячейки: проинтерпретирует код или сверстает размеченный текст."
      ]
    },
    {
      "cell_type": "code",
      "metadata": {
        "id": "aQ2_j3nkhLuq",
        "colab": {
          "base_uri": "https://localhost:8080/"
        },
        "outputId": "73be16a4-86d4-4474-ff54-e2c34d07e6a8"
      },
      "source": [
        "# ячейка с кодом, при выполнении которой появится output\n",
        "2 + 2"
      ],
      "execution_count": 1643,
      "outputs": [
        {
          "output_type": "execute_result",
          "data": {
            "text/plain": [
              "4"
            ]
          },
          "metadata": {},
          "execution_count": 1643
        }
      ]
    },
    {
      "cell_type": "markdown",
      "metadata": {
        "id": "A4wkVlIehLur"
      },
      "source": [
        "Попробуйте создать свои ячейки, написать какой-нибудь код и текст какой-нибудь формулой."
      ]
    },
    {
      "cell_type": "code",
      "metadata": {
        "id": "BIuaYSvqhLus"
      },
      "source": [
        "# your code"
      ],
      "execution_count": 1644,
      "outputs": []
    },
    {
      "cell_type": "markdown",
      "metadata": {
        "id": "iWs6ljrIhLus"
      },
      "source": [
        "[Здесь](https://athena.brynmawr.edu/jupyter/hub/dblank/public/Jupyter%20Notebook%20Users%20Manual.ipynb) находится <s>не</s>большая заметка о используемом языке разметки Markdown. Он позволяет:\n",
        "\n",
        "0. Составлять упорядоченные списки\n",
        "1. Выделять *текст* <s>при</s> **необходимости**\n",
        "2. Добавлять [ссылки](http://imgs.xkcd.com/comics/the_universal_label.png)\n",
        "\n",
        "\n",
        "* Составлять неупорядоченные списки\n",
        "\n",
        "Делать вставки с помощью LaTex:\n",
        "    \n",
        "$\n",
        "\\left\\{\n",
        "\\begin{array}{ll}\n",
        "x = 16 \\sin^3 (t) \\\\ \n",
        "y = 13 \\cos (t) - 5 \\cos (2t) - 2 \\cos (3t) - \\cos (4t) \\\\\n",
        "t \\in [0, 2 \\pi]\n",
        "\\end{array}\n",
        "\\right.$"
      ]
    },
    {
      "cell_type": "markdown",
      "metadata": {
        "id": "6fmTGcXOhLus"
      },
      "source": [
        "А ещё можно вставлять картинки, или гифки, или что захотите:\n",
        "\n",
        "<img src=\"https://media1.tenor.com/images/9b8fbe9214504bcf6c60fe4e4f7e114e/tenor.gif?itemid=5416416\" style=\"width: 400px\">"
      ]
    },
    {
      "cell_type": "markdown",
      "metadata": {
        "id": "sUe2vnFGhLuu"
      },
      "source": [
        "## 1. Табличные данные и Pandas"
      ]
    },
    {
      "cell_type": "markdown",
      "metadata": {
        "id": "DJQzjjqJhLuu"
      },
      "source": [
        "Pandas — удобная библиотека для работы с табличными данными в Python, если данных не слишком много и они помещаются в оперативную память вашего компьютера. Несмотря на неэффективность реализации и некоторые проблемы, библиотека стала стандартом в анализе данных.\n",
        "\n",
        "Основной объект в pandas — это DataFrame, представляющий собой таблицу с именованными колонками различных типов, индексом (может быть многоуровневым). DataFrame можно создавать, считывая таблицу из файла или задавая вручную из других объектов. **Дефакто** в самом коде объект DataFrame принято называть **df**\n",
        "\n",
        "В этой части потребуется выполнить несколько небольших заданий. Можно пойти двумя путями: сначала изучить материалы, а потом приступить к заданиям, или же разбираться \"по ходу\". Выбирайте сами.\n",
        "\n",
        "Материалы:\n",
        "1. [Pandas за 10 минут из официального руководства](http://pandas.pydata.org/pandas-docs/stable/10min.html)\n",
        "2. [Документация](http://pandas.pydata.org/pandas-docs/stable/index.html) (стоит обращаться, если не понятно, как вызывать конкретный метод)\n",
        "3. [Примеры использования функционала](http://nbviewer.jupyter.org/github/justmarkham/pandas-videos/blob/master/pandas.ipynb)\n",
        "\n",
        "Многие из заданий можно выполнить несколькими способами. Не существуют единственно верного, но попробуйте максимально задействовать арсенал pandas и ориентируйтесь на простоту и понятность вашего кода. Мы не будем подсказывать, что нужно использовать для решения конкретной задачи, попробуйте находить необходимый функционал сами (название метода чаще всего очевидно). В помощь вам документация, поиск и stackoverflow."
      ]
    },
    {
      "cell_type": "markdown",
      "metadata": {
        "id": "dneJl9TyhLuv"
      },
      "source": [
        "Скачаем данные:"
      ]
    },
    {
      "cell_type": "code",
      "metadata": {
        "id": "rj_I0RslhLuw"
      },
      "source": [
        "!wget  -O 'end_seminar.xlsx' -q 'https://www.dropbox.com/s/f4rm8sjc3v99p0m/_end_seminar.xlsx?dl=0'"
      ],
      "execution_count": 1645,
      "outputs": []
    },
    {
      "cell_type": "markdown",
      "metadata": {
        "id": "VFs_6IythLux"
      },
      "source": [
        "##### В первой части задания (до раздела \"Распределение студентов по курсам\") **использование циклов запрещается** и повлечет за собой снижение оценки. Использование <code>vectorize</code> и  <code>apply</code>, <code>apply_along_axis</code> крайне нежелательно."
      ]
    },
    {
      "cell_type": "markdown",
      "metadata": {
        "id": "shFkfJkohLux"
      },
      "source": [
        "Для каждой задачи из этого раздела вы должны написать код для получения ответа, а также дать текстовый ответ, если он предполагается.\n",
        "\n",
        "На некоторые вопросы вы можете получить путём пристального взгляда на таблицу, но это не будет засчитываться. Вы в любом случае должны получить ответ с помощью кода."
      ]
    },
    {
      "cell_type": "markdown",
      "metadata": {
        "id": "gDD85M7bhLux"
      },
      "source": [
        "#### 1. Откройте файл с таблицей (не забудьте про её формат). Выведите последние 10 строк.\n",
        "\n",
        "Посмотрите на данные и скажите, что они из себя представляют, сколько в таблице строк, какие столбцы? (на это не надо отвечать, просто подумайте об этом)"
      ]
    },
    {
      "cell_type": "code",
      "source": [
        "!pip install openpyxl==3.0.9 # установка определенной версии пакета Python для чтения Excel файлов"
      ],
      "metadata": {
        "colab": {
          "base_uri": "https://localhost:8080/"
        },
        "id": "if3C4FkVDJ_z",
        "outputId": "f96c5cad-6d25-44e0-c457-33c413d93336"
      },
      "execution_count": 1646,
      "outputs": [
        {
          "output_type": "stream",
          "name": "stdout",
          "text": [
            "Looking in indexes: https://pypi.org/simple, https://us-python.pkg.dev/colab-wheels/public/simple/\n",
            "Requirement already satisfied: openpyxl==3.0.9 in /usr/local/lib/python3.9/dist-packages (3.0.9)\n",
            "Requirement already satisfied: et-xmlfile in /usr/local/lib/python3.9/dist-packages (from openpyxl==3.0.9) (1.1.0)\n"
          ]
        }
      ]
    },
    {
      "cell_type": "code",
      "metadata": {
        "id": "PKulur3LhLuy"
      },
      "source": [
        "import pandas as pd\n",
        "df = pd.read_excel('end_seminar.xlsx')"
      ],
      "execution_count": 1647,
      "outputs": []
    },
    {
      "cell_type": "code",
      "source": [
        "df.tail(10)"
      ],
      "metadata": {
        "colab": {
          "base_uri": "https://localhost:8080/",
          "height": 896
        },
        "id": "pKP8ZOJZivOW",
        "outputId": "e2b0de90-2aa8-42fd-8dbb-770706505c88"
      },
      "execution_count": 1648,
      "outputs": [
        {
          "output_type": "execute_result",
          "data": {
            "text/plain": [
              "                  timestamp                                id  rating  \\\n",
              "351 2020-05-18 23:58:33.903  8fe79f84f36e3a5d2d6745621321302c    1016   \n",
              "352 2020-05-18 23:59:20.831  f93afd8e92c336b471aa3bbbc579aefe    1298   \n",
              "353 2020-05-18 23:59:28.998  9963fc00d9405a35b894cc04a7e19855    1135   \n",
              "354 2020-05-19 08:55:39.509  98c5a2548d93f26bd4195466e93178b3    1035   \n",
              "355 2020-05-19 18:58:06.283  ba298cbd9be59b84bab33325e956f27e    1155   \n",
              "356 2020-05-19 19:04:17.873  c5870b37ee3f672e4259dfb2fc02ed8f    1029   \n",
              "357 2020-05-19 20:19:25.815  f44aea1095f9f5b8e2f5f0ed2b17891b    1060   \n",
              "358 2020-05-20 11:54:38.318  d7118b44c7e8fdbbaaca226d2da6fef1    1111   \n",
              "359 2020-05-23 21:16:40.916  79d14db48e4737af731960ae212d5134     966   \n",
              "360 2020-05-23 21:16:40.916  f2d210ace25a841e1e58036b257d5d47    1195   \n",
              "\n",
              "     18_group  is_mi                                           fall_1  \\\n",
              "351       NaN    NaN                 Безопасность компьютерных систем   \n",
              "352       NaN    NaN                Высокопроизводительные вычисления   \n",
              "353       NaN    NaN                 Безопасность компьютерных систем   \n",
              "354       NaN    NaN            Байесовские методы машинного обучения   \n",
              "355       NaN    NaN  Сбор и обработка данных с помощью краудсорсинга   \n",
              "356       NaN    NaN                      Statistical Learning Theory   \n",
              "357       NaN    NaN                Анализ неструктурированных данных   \n",
              "358       NaN    NaN  Сбор и обработка данных с помощью краудсорсинга   \n",
              "359       NaN    NaN                 Безопасность компьютерных систем   \n",
              "360       NaN    NaN                Анализ неструктурированных данных   \n",
              "\n",
              "                                                fall_2  \\\n",
              "351                  Высокопроизводительные вычисления   \n",
              "352    Сбор и обработка данных с помощью краудсорсинга   \n",
              "353                  Высокопроизводительные вычисления   \n",
              "354               Глубинное обучение в обработке звука   \n",
              "355              Байесовские методы машинного обучения   \n",
              "356                  Анализ неструктурированных данных   \n",
              "357                  Высокопроизводительные вычисления   \n",
              "358                        Statistical Learning Theory   \n",
              "359  Принятие решений в условиях риска и неопределё...   \n",
              "360                      Моделирование временных рядов   \n",
              "\n",
              "                                              fall_3  \\\n",
              "351  Сбор и обработка данных с помощью краудсорсинга   \n",
              "352                      Statistical Learning Theory   \n",
              "353                 Безопасность компьютерных систем   \n",
              "354                      Statistical Learning Theory   \n",
              "355                Анализ неструктурированных данных   \n",
              "356  Сбор и обработка данных с помощью краудсорсинга   \n",
              "357                    Моделирование временных рядов   \n",
              "358                Анализ неструктурированных данных   \n",
              "359                Анализ неструктурированных данных   \n",
              "360                Высокопроизводительные вычисления   \n",
              "\n",
              "                                              spring_1  \\\n",
              "351                             Конфликты и кооперация   \n",
              "352               Методы сжатия и передачи медиаданных   \n",
              "353  Проектирование и разработка высоконагруженных ...   \n",
              "354                           Обучение с подкреплением   \n",
              "355                             Конфликты и кооперация   \n",
              "356                           Обучение с подкреплением   \n",
              "357                             Конфликты и кооперация   \n",
              "358  Проектирование и разработка высоконагруженных ...   \n",
              "359  Проектирование и разработка высоконагруженных ...   \n",
              "360                           Обучение с подкреплением   \n",
              "\n",
              "                                              spring_2  \\\n",
              "351  Проектирование и разработка высоконагруженных ...   \n",
              "352  Проектирование и разработка высоконагруженных ...   \n",
              "353               Методы сжатия и передачи медиаданных   \n",
              "354            Генеративные модели в машинном обучении   \n",
              "355                           Обучение с подкреплением   \n",
              "356                             Конфликты и кооперация   \n",
              "357                           Обучение с подкреплением   \n",
              "358               Методы сжатия и передачи медиаданных   \n",
              "359               Методы сжатия и передачи медиаданных   \n",
              "360                                Компьютерное зрение   \n",
              "\n",
              "                                 spring_3 is_first_time  percentile  17_group  \\\n",
              "351                 Символьные вычисления            Да    0.942029     174.0   \n",
              "352                Конфликты и кооперация            Да    0.057971     175.0   \n",
              "353                 Символьные вычисления            Да    0.572464     175.0   \n",
              "354  Методы сжатия и передачи медиаданных           Нет    0.905797     171.0   \n",
              "355                   Компьютерное зрение            Да    0.507246     171.0   \n",
              "356                   Компьютерное зрение            Да    0.920290     174.0   \n",
              "357                      Численные методы            Да    0.840580     174.0   \n",
              "358                      Численные методы            Да    0.652174     173.0   \n",
              "359                   Компьютерное зрение            Да    0.985507     172.0   \n",
              "360  Методы сжатия и передачи медиаданных           NaN    0.369565     176.0   \n",
              "\n",
              "                            blended  is_ml_student  \n",
              "351                          DevOps            NaN  \n",
              "352                          DevOps            NaN  \n",
              "353                          DevOps            NaN  \n",
              "354                          DevOps            NaN  \n",
              "355  Соревновательный анализ данных            NaN  \n",
              "356                          DevOps            NaN  \n",
              "357                          DevOps            NaN  \n",
              "358  Соревновательный анализ данных            NaN  \n",
              "359                          DevOps            NaN  \n",
              "360  Соревновательный анализ данных            NaN  "
            ],
            "text/html": [
              "\n",
              "  <div id=\"df-c1eda9f9-a996-4d26-aac5-2c6171de9fc6\">\n",
              "    <div class=\"colab-df-container\">\n",
              "      <div>\n",
              "<style scoped>\n",
              "    .dataframe tbody tr th:only-of-type {\n",
              "        vertical-align: middle;\n",
              "    }\n",
              "\n",
              "    .dataframe tbody tr th {\n",
              "        vertical-align: top;\n",
              "    }\n",
              "\n",
              "    .dataframe thead th {\n",
              "        text-align: right;\n",
              "    }\n",
              "</style>\n",
              "<table border=\"1\" class=\"dataframe\">\n",
              "  <thead>\n",
              "    <tr style=\"text-align: right;\">\n",
              "      <th></th>\n",
              "      <th>timestamp</th>\n",
              "      <th>id</th>\n",
              "      <th>rating</th>\n",
              "      <th>18_group</th>\n",
              "      <th>is_mi</th>\n",
              "      <th>fall_1</th>\n",
              "      <th>fall_2</th>\n",
              "      <th>fall_3</th>\n",
              "      <th>spring_1</th>\n",
              "      <th>spring_2</th>\n",
              "      <th>spring_3</th>\n",
              "      <th>is_first_time</th>\n",
              "      <th>percentile</th>\n",
              "      <th>17_group</th>\n",
              "      <th>blended</th>\n",
              "      <th>is_ml_student</th>\n",
              "    </tr>\n",
              "  </thead>\n",
              "  <tbody>\n",
              "    <tr>\n",
              "      <th>351</th>\n",
              "      <td>2020-05-18 23:58:33.903</td>\n",
              "      <td>8fe79f84f36e3a5d2d6745621321302c</td>\n",
              "      <td>1016</td>\n",
              "      <td>NaN</td>\n",
              "      <td>NaN</td>\n",
              "      <td>Безопасность компьютерных систем</td>\n",
              "      <td>Высокопроизводительные вычисления</td>\n",
              "      <td>Сбор и обработка данных с помощью краудсорсинга</td>\n",
              "      <td>Конфликты и кооперация</td>\n",
              "      <td>Проектирование и разработка высоконагруженных ...</td>\n",
              "      <td>Символьные вычисления</td>\n",
              "      <td>Да</td>\n",
              "      <td>0.942029</td>\n",
              "      <td>174.0</td>\n",
              "      <td>DevOps</td>\n",
              "      <td>NaN</td>\n",
              "    </tr>\n",
              "    <tr>\n",
              "      <th>352</th>\n",
              "      <td>2020-05-18 23:59:20.831</td>\n",
              "      <td>f93afd8e92c336b471aa3bbbc579aefe</td>\n",
              "      <td>1298</td>\n",
              "      <td>NaN</td>\n",
              "      <td>NaN</td>\n",
              "      <td>Высокопроизводительные вычисления</td>\n",
              "      <td>Сбор и обработка данных с помощью краудсорсинга</td>\n",
              "      <td>Statistical Learning Theory</td>\n",
              "      <td>Методы сжатия и передачи медиаданных</td>\n",
              "      <td>Проектирование и разработка высоконагруженных ...</td>\n",
              "      <td>Конфликты и кооперация</td>\n",
              "      <td>Да</td>\n",
              "      <td>0.057971</td>\n",
              "      <td>175.0</td>\n",
              "      <td>DevOps</td>\n",
              "      <td>NaN</td>\n",
              "    </tr>\n",
              "    <tr>\n",
              "      <th>353</th>\n",
              "      <td>2020-05-18 23:59:28.998</td>\n",
              "      <td>9963fc00d9405a35b894cc04a7e19855</td>\n",
              "      <td>1135</td>\n",
              "      <td>NaN</td>\n",
              "      <td>NaN</td>\n",
              "      <td>Безопасность компьютерных систем</td>\n",
              "      <td>Высокопроизводительные вычисления</td>\n",
              "      <td>Безопасность компьютерных систем</td>\n",
              "      <td>Проектирование и разработка высоконагруженных ...</td>\n",
              "      <td>Методы сжатия и передачи медиаданных</td>\n",
              "      <td>Символьные вычисления</td>\n",
              "      <td>Да</td>\n",
              "      <td>0.572464</td>\n",
              "      <td>175.0</td>\n",
              "      <td>DevOps</td>\n",
              "      <td>NaN</td>\n",
              "    </tr>\n",
              "    <tr>\n",
              "      <th>354</th>\n",
              "      <td>2020-05-19 08:55:39.509</td>\n",
              "      <td>98c5a2548d93f26bd4195466e93178b3</td>\n",
              "      <td>1035</td>\n",
              "      <td>NaN</td>\n",
              "      <td>NaN</td>\n",
              "      <td>Байесовские методы машинного обучения</td>\n",
              "      <td>Глубинное обучение в обработке звука</td>\n",
              "      <td>Statistical Learning Theory</td>\n",
              "      <td>Обучение с подкреплением</td>\n",
              "      <td>Генеративные модели в машинном обучении</td>\n",
              "      <td>Методы сжатия и передачи медиаданных</td>\n",
              "      <td>Нет</td>\n",
              "      <td>0.905797</td>\n",
              "      <td>171.0</td>\n",
              "      <td>DevOps</td>\n",
              "      <td>NaN</td>\n",
              "    </tr>\n",
              "    <tr>\n",
              "      <th>355</th>\n",
              "      <td>2020-05-19 18:58:06.283</td>\n",
              "      <td>ba298cbd9be59b84bab33325e956f27e</td>\n",
              "      <td>1155</td>\n",
              "      <td>NaN</td>\n",
              "      <td>NaN</td>\n",
              "      <td>Сбор и обработка данных с помощью краудсорсинга</td>\n",
              "      <td>Байесовские методы машинного обучения</td>\n",
              "      <td>Анализ неструктурированных данных</td>\n",
              "      <td>Конфликты и кооперация</td>\n",
              "      <td>Обучение с подкреплением</td>\n",
              "      <td>Компьютерное зрение</td>\n",
              "      <td>Да</td>\n",
              "      <td>0.507246</td>\n",
              "      <td>171.0</td>\n",
              "      <td>Соревновательный анализ данных</td>\n",
              "      <td>NaN</td>\n",
              "    </tr>\n",
              "    <tr>\n",
              "      <th>356</th>\n",
              "      <td>2020-05-19 19:04:17.873</td>\n",
              "      <td>c5870b37ee3f672e4259dfb2fc02ed8f</td>\n",
              "      <td>1029</td>\n",
              "      <td>NaN</td>\n",
              "      <td>NaN</td>\n",
              "      <td>Statistical Learning Theory</td>\n",
              "      <td>Анализ неструктурированных данных</td>\n",
              "      <td>Сбор и обработка данных с помощью краудсорсинга</td>\n",
              "      <td>Обучение с подкреплением</td>\n",
              "      <td>Конфликты и кооперация</td>\n",
              "      <td>Компьютерное зрение</td>\n",
              "      <td>Да</td>\n",
              "      <td>0.920290</td>\n",
              "      <td>174.0</td>\n",
              "      <td>DevOps</td>\n",
              "      <td>NaN</td>\n",
              "    </tr>\n",
              "    <tr>\n",
              "      <th>357</th>\n",
              "      <td>2020-05-19 20:19:25.815</td>\n",
              "      <td>f44aea1095f9f5b8e2f5f0ed2b17891b</td>\n",
              "      <td>1060</td>\n",
              "      <td>NaN</td>\n",
              "      <td>NaN</td>\n",
              "      <td>Анализ неструктурированных данных</td>\n",
              "      <td>Высокопроизводительные вычисления</td>\n",
              "      <td>Моделирование временных рядов</td>\n",
              "      <td>Конфликты и кооперация</td>\n",
              "      <td>Обучение с подкреплением</td>\n",
              "      <td>Численные методы</td>\n",
              "      <td>Да</td>\n",
              "      <td>0.840580</td>\n",
              "      <td>174.0</td>\n",
              "      <td>DevOps</td>\n",
              "      <td>NaN</td>\n",
              "    </tr>\n",
              "    <tr>\n",
              "      <th>358</th>\n",
              "      <td>2020-05-20 11:54:38.318</td>\n",
              "      <td>d7118b44c7e8fdbbaaca226d2da6fef1</td>\n",
              "      <td>1111</td>\n",
              "      <td>NaN</td>\n",
              "      <td>NaN</td>\n",
              "      <td>Сбор и обработка данных с помощью краудсорсинга</td>\n",
              "      <td>Statistical Learning Theory</td>\n",
              "      <td>Анализ неструктурированных данных</td>\n",
              "      <td>Проектирование и разработка высоконагруженных ...</td>\n",
              "      <td>Методы сжатия и передачи медиаданных</td>\n",
              "      <td>Численные методы</td>\n",
              "      <td>Да</td>\n",
              "      <td>0.652174</td>\n",
              "      <td>173.0</td>\n",
              "      <td>Соревновательный анализ данных</td>\n",
              "      <td>NaN</td>\n",
              "    </tr>\n",
              "    <tr>\n",
              "      <th>359</th>\n",
              "      <td>2020-05-23 21:16:40.916</td>\n",
              "      <td>79d14db48e4737af731960ae212d5134</td>\n",
              "      <td>966</td>\n",
              "      <td>NaN</td>\n",
              "      <td>NaN</td>\n",
              "      <td>Безопасность компьютерных систем</td>\n",
              "      <td>Принятие решений в условиях риска и неопределё...</td>\n",
              "      <td>Анализ неструктурированных данных</td>\n",
              "      <td>Проектирование и разработка высоконагруженных ...</td>\n",
              "      <td>Методы сжатия и передачи медиаданных</td>\n",
              "      <td>Компьютерное зрение</td>\n",
              "      <td>Да</td>\n",
              "      <td>0.985507</td>\n",
              "      <td>172.0</td>\n",
              "      <td>DevOps</td>\n",
              "      <td>NaN</td>\n",
              "    </tr>\n",
              "    <tr>\n",
              "      <th>360</th>\n",
              "      <td>2020-05-23 21:16:40.916</td>\n",
              "      <td>f2d210ace25a841e1e58036b257d5d47</td>\n",
              "      <td>1195</td>\n",
              "      <td>NaN</td>\n",
              "      <td>NaN</td>\n",
              "      <td>Анализ неструктурированных данных</td>\n",
              "      <td>Моделирование временных рядов</td>\n",
              "      <td>Высокопроизводительные вычисления</td>\n",
              "      <td>Обучение с подкреплением</td>\n",
              "      <td>Компьютерное зрение</td>\n",
              "      <td>Методы сжатия и передачи медиаданных</td>\n",
              "      <td>NaN</td>\n",
              "      <td>0.369565</td>\n",
              "      <td>176.0</td>\n",
              "      <td>Соревновательный анализ данных</td>\n",
              "      <td>NaN</td>\n",
              "    </tr>\n",
              "  </tbody>\n",
              "</table>\n",
              "</div>\n",
              "      <button class=\"colab-df-convert\" onclick=\"convertToInteractive('df-c1eda9f9-a996-4d26-aac5-2c6171de9fc6')\"\n",
              "              title=\"Convert this dataframe to an interactive table.\"\n",
              "              style=\"display:none;\">\n",
              "        \n",
              "  <svg xmlns=\"http://www.w3.org/2000/svg\" height=\"24px\"viewBox=\"0 0 24 24\"\n",
              "       width=\"24px\">\n",
              "    <path d=\"M0 0h24v24H0V0z\" fill=\"none\"/>\n",
              "    <path d=\"M18.56 5.44l.94 2.06.94-2.06 2.06-.94-2.06-.94-.94-2.06-.94 2.06-2.06.94zm-11 1L8.5 8.5l.94-2.06 2.06-.94-2.06-.94L8.5 2.5l-.94 2.06-2.06.94zm10 10l.94 2.06.94-2.06 2.06-.94-2.06-.94-.94-2.06-.94 2.06-2.06.94z\"/><path d=\"M17.41 7.96l-1.37-1.37c-.4-.4-.92-.59-1.43-.59-.52 0-1.04.2-1.43.59L10.3 9.45l-7.72 7.72c-.78.78-.78 2.05 0 2.83L4 21.41c.39.39.9.59 1.41.59.51 0 1.02-.2 1.41-.59l7.78-7.78 2.81-2.81c.8-.78.8-2.07 0-2.86zM5.41 20L4 18.59l7.72-7.72 1.47 1.35L5.41 20z\"/>\n",
              "  </svg>\n",
              "      </button>\n",
              "      \n",
              "  <style>\n",
              "    .colab-df-container {\n",
              "      display:flex;\n",
              "      flex-wrap:wrap;\n",
              "      gap: 12px;\n",
              "    }\n",
              "\n",
              "    .colab-df-convert {\n",
              "      background-color: #E8F0FE;\n",
              "      border: none;\n",
              "      border-radius: 50%;\n",
              "      cursor: pointer;\n",
              "      display: none;\n",
              "      fill: #1967D2;\n",
              "      height: 32px;\n",
              "      padding: 0 0 0 0;\n",
              "      width: 32px;\n",
              "    }\n",
              "\n",
              "    .colab-df-convert:hover {\n",
              "      background-color: #E2EBFA;\n",
              "      box-shadow: 0px 1px 2px rgba(60, 64, 67, 0.3), 0px 1px 3px 1px rgba(60, 64, 67, 0.15);\n",
              "      fill: #174EA6;\n",
              "    }\n",
              "\n",
              "    [theme=dark] .colab-df-convert {\n",
              "      background-color: #3B4455;\n",
              "      fill: #D2E3FC;\n",
              "    }\n",
              "\n",
              "    [theme=dark] .colab-df-convert:hover {\n",
              "      background-color: #434B5C;\n",
              "      box-shadow: 0px 1px 3px 1px rgba(0, 0, 0, 0.15);\n",
              "      filter: drop-shadow(0px 1px 2px rgba(0, 0, 0, 0.3));\n",
              "      fill: #FFFFFF;\n",
              "    }\n",
              "  </style>\n",
              "\n",
              "      <script>\n",
              "        const buttonEl =\n",
              "          document.querySelector('#df-c1eda9f9-a996-4d26-aac5-2c6171de9fc6 button.colab-df-convert');\n",
              "        buttonEl.style.display =\n",
              "          google.colab.kernel.accessAllowed ? 'block' : 'none';\n",
              "\n",
              "        async function convertToInteractive(key) {\n",
              "          const element = document.querySelector('#df-c1eda9f9-a996-4d26-aac5-2c6171de9fc6');\n",
              "          const dataTable =\n",
              "            await google.colab.kernel.invokeFunction('convertToInteractive',\n",
              "                                                     [key], {});\n",
              "          if (!dataTable) return;\n",
              "\n",
              "          const docLinkHtml = 'Like what you see? Visit the ' +\n",
              "            '<a target=\"_blank\" href=https://colab.research.google.com/notebooks/data_table.ipynb>data table notebook</a>'\n",
              "            + ' to learn more about interactive tables.';\n",
              "          element.innerHTML = '';\n",
              "          dataTable['output_type'] = 'display_data';\n",
              "          await google.colab.output.renderOutput(dataTable, element);\n",
              "          const docLink = document.createElement('div');\n",
              "          docLink.innerHTML = docLinkHtml;\n",
              "          element.appendChild(docLink);\n",
              "        }\n",
              "      </script>\n",
              "    </div>\n",
              "  </div>\n",
              "  "
            ]
          },
          "metadata": {},
          "execution_count": 1648
        }
      ]
    },
    {
      "cell_type": "code",
      "source": [
        "df.info()"
      ],
      "metadata": {
        "colab": {
          "base_uri": "https://localhost:8080/"
        },
        "id": "9eQz92IoqD9J",
        "outputId": "80f60ef1-5826-4a43-9b84-cf7113ffda3d"
      },
      "execution_count": 1649,
      "outputs": [
        {
          "output_type": "stream",
          "name": "stdout",
          "text": [
            "<class 'pandas.core.frame.DataFrame'>\n",
            "RangeIndex: 361 entries, 0 to 360\n",
            "Data columns (total 16 columns):\n",
            " #   Column         Non-Null Count  Dtype         \n",
            "---  ------         --------------  -----         \n",
            " 0   timestamp      361 non-null    datetime64[ns]\n",
            " 1   id             361 non-null    object        \n",
            " 2   rating         361 non-null    int64         \n",
            " 3   18_group       223 non-null    float64       \n",
            " 4   is_mi          18 non-null     float64       \n",
            " 5   fall_1         361 non-null    object        \n",
            " 6   fall_2         361 non-null    object        \n",
            " 7   fall_3         361 non-null    object        \n",
            " 8   spring_1       361 non-null    object        \n",
            " 9   spring_2       361 non-null    object        \n",
            " 10  spring_3       361 non-null    object        \n",
            " 11  is_first_time  359 non-null    object        \n",
            " 12  percentile     361 non-null    float64       \n",
            " 13  17_group       138 non-null    float64       \n",
            " 14  blended        138 non-null    object        \n",
            " 15  is_ml_student  57 non-null     float64       \n",
            "dtypes: datetime64[ns](1), float64(5), int64(1), object(9)\n",
            "memory usage: 45.2+ KB\n"
          ]
        }
      ]
    },
    {
      "cell_type": "code",
      "source": [
        "df.shape"
      ],
      "metadata": {
        "colab": {
          "base_uri": "https://localhost:8080/"
        },
        "id": "QY329yI5Jt8g",
        "outputId": "8e85165c-f587-49f4-be6f-ac0ac65bffe6"
      },
      "execution_count": 1650,
      "outputs": [
        {
          "output_type": "execute_result",
          "data": {
            "text/plain": [
              "(361, 16)"
            ]
          },
          "metadata": {},
          "execution_count": 1650
        }
      ]
    },
    {
      "cell_type": "markdown",
      "metadata": {
        "id": "Jhk3tVpVhLuy"
      },
      "source": [
        "#### 2. Ответьте на вопросы (0.5 балла):\n",
        "1. Сколько было заявок из групп 18-го года набора, а сколько из групп 17-го года?\n",
        "2. Есть ли студенты с равными перцентилями?"
      ]
    },
    {
      "cell_type": "code",
      "metadata": {
        "id": "bsn4vn8RhLuy",
        "colab": {
          "base_uri": "https://localhost:8080/"
        },
        "outputId": "a6b5ebae-d6a0-433a-8152-956ebdd67c8c"
      },
      "source": [
        "df['17_group'].notnull().sum() # кол-во заявок 17-го года"
      ],
      "execution_count": 1651,
      "outputs": [
        {
          "output_type": "execute_result",
          "data": {
            "text/plain": [
              "138"
            ]
          },
          "metadata": {},
          "execution_count": 1651
        }
      ]
    },
    {
      "cell_type": "code",
      "source": [
        "df['18_group'].notnull().sum() # кол-во заявок 18-го года"
      ],
      "metadata": {
        "colab": {
          "base_uri": "https://localhost:8080/"
        },
        "id": "J1XAWiBdsfz6",
        "outputId": "2cc7bf14-d313-43e6-e38d-f97540669862"
      },
      "execution_count": 1652,
      "outputs": [
        {
          "output_type": "execute_result",
          "data": {
            "text/plain": [
              "223"
            ]
          },
          "metadata": {},
          "execution_count": 1652
        }
      ]
    },
    {
      "cell_type": "code",
      "source": [
        "df['percentile'].duplicated(keep=False).sum() # кол-во студентов с неуникальными перцентилями"
      ],
      "metadata": {
        "colab": {
          "base_uri": "https://localhost:8080/"
        },
        "id": "5R6VBdDnsubb",
        "outputId": "0b992aea-3de7-4690-9cf8-9488f46ab1f0"
      },
      "execution_count": 1653,
      "outputs": [
        {
          "output_type": "execute_result",
          "data": {
            "text/plain": [
              "30"
            ]
          },
          "metadata": {},
          "execution_count": 1653
        }
      ]
    },
    {
      "cell_type": "markdown",
      "source": [
        "Ответы:\n",
        "\n",
        "1. Было 138 заявок из групп 17-го года набора и 223 заявки из групп 18-го года.\n",
        "2. Есть, их 30 человек."
      ],
      "metadata": {
        "id": "1DUiHPKFSH1M"
      }
    },
    {
      "cell_type": "markdown",
      "metadata": {
        "id": "jPiMwyqHhLuy"
      },
      "source": [
        "#### 3. Есть ли в данных пропуски? В каких колонках? Сколько их в каждой из этих колонок? (0.5 балла)"
      ]
    },
    {
      "cell_type": "code",
      "metadata": {
        "id": "edY1RrSOhLuy",
        "colab": {
          "base_uri": "https://localhost:8080/"
        },
        "outputId": "dfe2149a-af64-4faf-84e1-1f27a75b102f"
      },
      "source": [
        "df.isna().sum() # кол-во пропусков"
      ],
      "execution_count": 1654,
      "outputs": [
        {
          "output_type": "execute_result",
          "data": {
            "text/plain": [
              "timestamp          0\n",
              "id                 0\n",
              "rating             0\n",
              "18_group         138\n",
              "is_mi            343\n",
              "fall_1             0\n",
              "fall_2             0\n",
              "fall_3             0\n",
              "spring_1           0\n",
              "spring_2           0\n",
              "spring_3           0\n",
              "is_first_time      2\n",
              "percentile         0\n",
              "17_group         223\n",
              "blended          223\n",
              "is_ml_student    304\n",
              "dtype: int64"
            ]
          },
          "metadata": {},
          "execution_count": 1654
        }
      ]
    },
    {
      "cell_type": "markdown",
      "source": [
        "Ответ:\n",
        "\n",
        "Пропуски присутствуют в колонках \"18_group\": 138, \"is_mi\": 343, \"is_first_time\": 2, \"17_group\": 223, \"blended\": 223, \"is_ml_student\": 304"
      ],
      "metadata": {
        "id": "QIolUgvVu8-D"
      }
    },
    {
      "cell_type": "markdown",
      "metadata": {
        "id": "B5ORhP2uhLuz"
      },
      "source": [
        "Заполните пропуски пустой строкой для строковых колонок и нулём для числовых."
      ]
    },
    {
      "cell_type": "code",
      "metadata": {
        "id": "TlF_JJ2ghLuz",
        "colab": {
          "base_uri": "https://localhost:8080/"
        },
        "outputId": "fb1e56be-26e8-4ab0-98cb-a210b52b866f"
      },
      "source": [
        "nums = ['18_group', 'is_mi', '17_group', 'is_ml_student']\n",
        "strs = ['is_first_time', 'blended']\n",
        "df[nums] = df[nums].fillna(0)\n",
        "df[strs] = df[strs].fillna('')\n",
        "df.isna().sum()"
      ],
      "execution_count": 1655,
      "outputs": [
        {
          "output_type": "execute_result",
          "data": {
            "text/plain": [
              "timestamp        0\n",
              "id               0\n",
              "rating           0\n",
              "18_group         0\n",
              "is_mi            0\n",
              "fall_1           0\n",
              "fall_2           0\n",
              "fall_3           0\n",
              "spring_1         0\n",
              "spring_2         0\n",
              "spring_3         0\n",
              "is_first_time    0\n",
              "percentile       0\n",
              "17_group         0\n",
              "blended          0\n",
              "is_ml_student    0\n",
              "dtype: int64"
            ]
          },
          "metadata": {},
          "execution_count": 1655
        }
      ]
    },
    {
      "cell_type": "markdown",
      "metadata": {
        "id": "w5ELhkT1hLuz"
      },
      "source": [
        "#### 4. Посмотрите повнимательнее на колонку 'is_first_time' (0.5 балла)\n",
        "\n",
        "Есть ли в ней ответы \"Нет\"? Сколько их?\n",
        "\n",
        "Если вы найдете повторные обращения студентов, оставьте только самую позднюю версию. <i>Обращения со значением \"Нет\" в <code>is_first_time</code> могут быть как повторными, так и первичными, поскольку поле заполняли сами студенты.</i>"
      ]
    },
    {
      "cell_type": "code",
      "metadata": {
        "id": "VEfiNsyQhLuz",
        "colab": {
          "base_uri": "https://localhost:8080/"
        },
        "outputId": "6e887354-1634-4c93-925b-53d659c7e37e"
      },
      "source": [
        "df['is_first_time'].value_counts()[1] # кол-во \"нет\""
      ],
      "execution_count": 1656,
      "outputs": [
        {
          "output_type": "execute_result",
          "data": {
            "text/plain": [
              "51"
            ]
          },
          "metadata": {},
          "execution_count": 1656
        }
      ]
    },
    {
      "cell_type": "code",
      "source": [
        "early_duplicates = df[df['id'].duplicated(keep=False)].sort_values(['id', 'timestamp']).drop_duplicates('id', keep='first').index\n",
        "df.drop(early_duplicates, axis=0, inplace=True)"
      ],
      "metadata": {
        "id": "qeLpQOXG717F"
      },
      "execution_count": 1657,
      "outputs": []
    },
    {
      "cell_type": "code",
      "source": [
        "df['id'].duplicated(keep=False).sum() # проверка"
      ],
      "metadata": {
        "colab": {
          "base_uri": "https://localhost:8080/"
        },
        "id": "E5pILYoD-l_X",
        "outputId": "d3f79541-9293-4e1c-9b24-2c9e2b96b3ed"
      },
      "execution_count": 1658,
      "outputs": [
        {
          "output_type": "execute_result",
          "data": {
            "text/plain": [
              "0"
            ]
          },
          "metadata": {},
          "execution_count": 1658
        }
      ]
    },
    {
      "cell_type": "markdown",
      "source": [
        "Ответ:\n",
        "\n",
        "Всего 51 ответ \"Нет\"."
      ],
      "metadata": {
        "id": "jlxmWcTiSi_F"
      }
    },
    {
      "cell_type": "markdown",
      "metadata": {
        "id": "IlzHp3HVhLuz"
      },
      "source": [
        "#### 5. Какие  blended-курсы для четверокурсников существуют? На какой blended-курс записалось наибольшее количество студентов? На каком из курсов собрались студенты с самым высоким средним рейтингом? (0.5 балла)"
      ]
    },
    {
      "cell_type": "code",
      "metadata": {
        "id": "j_BRWerHhLu0",
        "colab": {
          "base_uri": "https://localhost:8080/"
        },
        "outputId": "da68d504-ac58-4564-973e-14b56b05d741"
      },
      "source": [
        "df['blended'].value_counts()[1:]"
      ],
      "execution_count": 1659,
      "outputs": [
        {
          "output_type": "execute_result",
          "data": {
            "text/plain": [
              "DevOps                                   87\n",
              "Соревновательный анализ данных           32\n",
              "Введение в дифференциальную геометрию    15\n",
              "Name: blended, dtype: int64"
            ]
          },
          "metadata": {},
          "execution_count": 1659
        }
      ]
    },
    {
      "cell_type": "code",
      "source": [
        "df['blended'].value_counts()[1:].idxmax() # курс с max кол-вом студентов"
      ],
      "metadata": {
        "colab": {
          "base_uri": "https://localhost:8080/",
          "height": 35
        },
        "id": "Lom4I26N_z7w",
        "outputId": "61959abd-6503-41b3-ffee-237d5875e285"
      },
      "execution_count": 1660,
      "outputs": [
        {
          "output_type": "execute_result",
          "data": {
            "text/plain": [
              "'DevOps'"
            ],
            "application/vnd.google.colaboratory.intrinsic+json": {
              "type": "string"
            }
          },
          "metadata": {},
          "execution_count": 1660
        }
      ]
    },
    {
      "cell_type": "code",
      "source": [
        "round(df.groupby('blended').rating.mean()[1:], 2) # рейтинги"
      ],
      "metadata": {
        "colab": {
          "base_uri": "https://localhost:8080/"
        },
        "id": "55v761LQAzfy",
        "outputId": "3abe5a8a-ee8c-4cf4-cd9c-6aadce929d06"
      },
      "execution_count": 1661,
      "outputs": [
        {
          "output_type": "execute_result",
          "data": {
            "text/plain": [
              "blended\n",
              "DevOps                                   1154.17\n",
              "Введение в дифференциальную геометрию    1210.73\n",
              "Соревновательный анализ данных           1144.22\n",
              "Name: rating, dtype: float64"
            ]
          },
          "metadata": {},
          "execution_count": 1661
        }
      ]
    },
    {
      "cell_type": "code",
      "source": [
        "df.groupby('blended').rating.mean()[1:].idxmax() # курс с max рейтингом студентов"
      ],
      "metadata": {
        "colab": {
          "base_uri": "https://localhost:8080/",
          "height": 35
        },
        "id": "oi6rLon1-zIV",
        "outputId": "17da7e44-3ea7-4a4a-ee99-736b3a060edb"
      },
      "execution_count": 1662,
      "outputs": [
        {
          "output_type": "execute_result",
          "data": {
            "text/plain": [
              "'Введение в дифференциальную геометрию'"
            ],
            "application/vnd.google.colaboratory.intrinsic+json": {
              "type": "string"
            }
          },
          "metadata": {},
          "execution_count": 1662
        }
      ]
    },
    {
      "cell_type": "markdown",
      "source": [
        "Ответы:\n",
        "\n",
        "Blended-курсы: DevOps, Соревновательный анализ данных, Введение в дифференциальную геометрию.\n",
        "\n",
        "Больше всего людей записалось на DevOps.\n",
        "\n",
        "Наивысший рейтинг у студентов на курсе Введение в дифференциальную геометрию."
      ],
      "metadata": {
        "id": "3dIwpz96SzAC"
      }
    },
    {
      "cell_type": "markdown",
      "metadata": {
        "id": "IU_FLt8HhLu0"
      },
      "source": [
        "#### 6. Выясните, есть ли в данных студенты с абсолютно одинаковыми предпочтениями по всем курсам (не забудьте учесть blended-курсы для четверокурсников). Сколько таких наборов, которые взяли несколько студентов? Выведите их все вместе с количеством выбравших их студентов (1 балл)\n",
        "\n",
        "<i>Предпочтения двух студентов считаются абсолютно одинаковыми, если выбранные ими дисциплины имеют одинаковый приоритет.</i>"
      ]
    },
    {
      "cell_type": "code",
      "metadata": {
        "id": "BBDlR1mFhLu0"
      },
      "source": [
        "cols = ['fall_1', 'fall_2','fall_3', 'spring_1', 'spring_2', 'spring_3', 'blended'] # колонки с курсами"
      ],
      "execution_count": 1663,
      "outputs": []
    },
    {
      "cell_type": "code",
      "source": [
        "df.groupby(cols).count().query('id > 1')[['id']]"
      ],
      "metadata": {
        "colab": {
          "base_uri": "https://localhost:8080/",
          "height": 994
        },
        "id": "ENFjPRljZebw",
        "outputId": "30ab1e9c-9de4-4a47-c335-81735dfc0859"
      },
      "execution_count": 1664,
      "outputs": [
        {
          "output_type": "execute_result",
          "data": {
            "text/plain": [
              "                                                                                                                                                                                                                                                                                                    id\n",
              "fall_1                                          fall_2                                          fall_3                                          spring_1                                           spring_2                                    spring_3                                    blended    \n",
              "Statistical Learning Theory                     Анализ неструктурированных данных               Сбор и обработка данных с помощью краудсорсинга Обучение с подкреплением                           Конфликты и кооперация                      Компьютерное зрение                         DevOps    2\n",
              "Байесовские методы машинного обучения           Анализ неструктурированных данных               Глубинное обучение в обработке звука            Обучение с подкреплением                           Генеративные модели в машинном обучении     Компьютерное зрение                         DevOps    2\n",
              "                                                                                                Сбор и обработка данных с помощью краудсорсинга Обучение с подкреплением                           Компьютерное зрение                         Генеративные модели в машинном обучении     DevOps    2\n",
              "Безопасность компьютерных систем                Statistical Learning Theory                     Матричные вычисления                            Дискретная оптимизация                             Промышленное программирование на языке Java Дополнительные главы прикладной статистики            3\n",
              "                                                Высокопроизводительные вычисления               Анализ неструктурированных данных               Проектирование и разработка высоконагруженных с... Методы сжатия и передачи медиаданных        Конфликты и кооперация                      DevOps    2\n",
              "                                                                                                Язык SQL                                        Компьютерные сети                                  Промышленное программирование на языке Java Дискретная оптимизация                                3\n",
              "                                                                                                                                                Промышленное программирование на языке Java        Компьютерные сети                           Системы баз данных                                    2\n",
              "                                                Матричные вычисления                            Моделирование временных рядов                   Промышленное программирование на языке Java        Компьютерные сети                           Дискретная оптимизация                                2\n",
              "                                                Сбор и обработка данных с помощью краудсорсинга Матричные вычисления                            Компьютерные сети                                  Промышленное программирование на языке Java Анализ данных в бизнесе                               2\n",
              "                                                Теория баз данных                               Язык SQL                                        Машинное обучение 2                                Компьютерные сети                           Промышленное программирование на языке Java           2\n",
              "Высокопроизводительные вычисления               Безопасность компьютерных систем                Сбор и обработка данных с помощью краудсорсинга Проектирование и разработка высоконагруженных с... Методы сжатия и передачи медиаданных        Компьютерное зрение                         DevOps    2\n",
              "                                                Сбор и обработка данных с помощью краудсорсинга Моделирование временных рядов                   Проектирование и разработка высоконагруженных с... Методы сжатия и передачи медиаданных        Методы сжатия и передачи медиаданных        DevOps    2\n",
              "Моделирование временных рядов                   Сбор и обработка данных с помощью краудсорсинга Безопасность компьютерных систем                Компьютерные сети                                  Дополнительные главы прикладной статистики  Системы баз данных                                    2\n",
              "Сбор и обработка данных с помощью краудсорсинга Язык SQL                                        Теория баз данных                               Промышленное программирование на языке Java        Машинное обучение 2                         Компьютерные сети                                     2\n",
              "Язык SQL                                        Высокопроизводительные вычисления               Теория баз данных                               Компьютерные сети                                  Промышленное программирование на языке Java Дискретная оптимизация                                2"
            ],
            "text/html": [
              "\n",
              "  <div id=\"df-c8ccddb8-06bf-49b6-a5ee-221529eacc74\">\n",
              "    <div class=\"colab-df-container\">\n",
              "      <div>\n",
              "<style scoped>\n",
              "    .dataframe tbody tr th:only-of-type {\n",
              "        vertical-align: middle;\n",
              "    }\n",
              "\n",
              "    .dataframe tbody tr th {\n",
              "        vertical-align: top;\n",
              "    }\n",
              "\n",
              "    .dataframe thead th {\n",
              "        text-align: right;\n",
              "    }\n",
              "</style>\n",
              "<table border=\"1\" class=\"dataframe\">\n",
              "  <thead>\n",
              "    <tr style=\"text-align: right;\">\n",
              "      <th></th>\n",
              "      <th></th>\n",
              "      <th></th>\n",
              "      <th></th>\n",
              "      <th></th>\n",
              "      <th></th>\n",
              "      <th></th>\n",
              "      <th>id</th>\n",
              "    </tr>\n",
              "    <tr>\n",
              "      <th>fall_1</th>\n",
              "      <th>fall_2</th>\n",
              "      <th>fall_3</th>\n",
              "      <th>spring_1</th>\n",
              "      <th>spring_2</th>\n",
              "      <th>spring_3</th>\n",
              "      <th>blended</th>\n",
              "      <th></th>\n",
              "    </tr>\n",
              "  </thead>\n",
              "  <tbody>\n",
              "    <tr>\n",
              "      <th>Statistical Learning Theory</th>\n",
              "      <th>Анализ неструктурированных данных</th>\n",
              "      <th>Сбор и обработка данных с помощью краудсорсинга</th>\n",
              "      <th>Обучение с подкреплением</th>\n",
              "      <th>Конфликты и кооперация</th>\n",
              "      <th>Компьютерное зрение</th>\n",
              "      <th>DevOps</th>\n",
              "      <td>2</td>\n",
              "    </tr>\n",
              "    <tr>\n",
              "      <th rowspan=\"2\" valign=\"top\">Байесовские методы машинного обучения</th>\n",
              "      <th rowspan=\"2\" valign=\"top\">Анализ неструктурированных данных</th>\n",
              "      <th>Глубинное обучение в обработке звука</th>\n",
              "      <th>Обучение с подкреплением</th>\n",
              "      <th>Генеративные модели в машинном обучении</th>\n",
              "      <th>Компьютерное зрение</th>\n",
              "      <th>DevOps</th>\n",
              "      <td>2</td>\n",
              "    </tr>\n",
              "    <tr>\n",
              "      <th>Сбор и обработка данных с помощью краудсорсинга</th>\n",
              "      <th>Обучение с подкреплением</th>\n",
              "      <th>Компьютерное зрение</th>\n",
              "      <th>Генеративные модели в машинном обучении</th>\n",
              "      <th>DevOps</th>\n",
              "      <td>2</td>\n",
              "    </tr>\n",
              "    <tr>\n",
              "      <th rowspan=\"7\" valign=\"top\">Безопасность компьютерных систем</th>\n",
              "      <th>Statistical Learning Theory</th>\n",
              "      <th>Матричные вычисления</th>\n",
              "      <th>Дискретная оптимизация</th>\n",
              "      <th>Промышленное программирование на языке Java</th>\n",
              "      <th>Дополнительные главы прикладной статистики</th>\n",
              "      <th></th>\n",
              "      <td>3</td>\n",
              "    </tr>\n",
              "    <tr>\n",
              "      <th rowspan=\"3\" valign=\"top\">Высокопроизводительные вычисления</th>\n",
              "      <th>Анализ неструктурированных данных</th>\n",
              "      <th>Проектирование и разработка высоконагруженных сервисов</th>\n",
              "      <th>Методы сжатия и передачи медиаданных</th>\n",
              "      <th>Конфликты и кооперация</th>\n",
              "      <th>DevOps</th>\n",
              "      <td>2</td>\n",
              "    </tr>\n",
              "    <tr>\n",
              "      <th rowspan=\"2\" valign=\"top\">Язык SQL</th>\n",
              "      <th>Компьютерные сети</th>\n",
              "      <th>Промышленное программирование на языке Java</th>\n",
              "      <th>Дискретная оптимизация</th>\n",
              "      <th></th>\n",
              "      <td>3</td>\n",
              "    </tr>\n",
              "    <tr>\n",
              "      <th>Промышленное программирование на языке Java</th>\n",
              "      <th>Компьютерные сети</th>\n",
              "      <th>Системы баз данных</th>\n",
              "      <th></th>\n",
              "      <td>2</td>\n",
              "    </tr>\n",
              "    <tr>\n",
              "      <th>Матричные вычисления</th>\n",
              "      <th>Моделирование временных рядов</th>\n",
              "      <th>Промышленное программирование на языке Java</th>\n",
              "      <th>Компьютерные сети</th>\n",
              "      <th>Дискретная оптимизация</th>\n",
              "      <th></th>\n",
              "      <td>2</td>\n",
              "    </tr>\n",
              "    <tr>\n",
              "      <th>Сбор и обработка данных с помощью краудсорсинга</th>\n",
              "      <th>Матричные вычисления</th>\n",
              "      <th>Компьютерные сети</th>\n",
              "      <th>Промышленное программирование на языке Java</th>\n",
              "      <th>Анализ данных в бизнесе</th>\n",
              "      <th></th>\n",
              "      <td>2</td>\n",
              "    </tr>\n",
              "    <tr>\n",
              "      <th>Теория баз данных</th>\n",
              "      <th>Язык SQL</th>\n",
              "      <th>Машинное обучение 2</th>\n",
              "      <th>Компьютерные сети</th>\n",
              "      <th>Промышленное программирование на языке Java</th>\n",
              "      <th></th>\n",
              "      <td>2</td>\n",
              "    </tr>\n",
              "    <tr>\n",
              "      <th rowspan=\"2\" valign=\"top\">Высокопроизводительные вычисления</th>\n",
              "      <th>Безопасность компьютерных систем</th>\n",
              "      <th>Сбор и обработка данных с помощью краудсорсинга</th>\n",
              "      <th>Проектирование и разработка высоконагруженных сервисов</th>\n",
              "      <th>Методы сжатия и передачи медиаданных</th>\n",
              "      <th>Компьютерное зрение</th>\n",
              "      <th>DevOps</th>\n",
              "      <td>2</td>\n",
              "    </tr>\n",
              "    <tr>\n",
              "      <th>Сбор и обработка данных с помощью краудсорсинга</th>\n",
              "      <th>Моделирование временных рядов</th>\n",
              "      <th>Проектирование и разработка высоконагруженных сервисов</th>\n",
              "      <th>Методы сжатия и передачи медиаданных</th>\n",
              "      <th>Методы сжатия и передачи медиаданных</th>\n",
              "      <th>DevOps</th>\n",
              "      <td>2</td>\n",
              "    </tr>\n",
              "    <tr>\n",
              "      <th>Моделирование временных рядов</th>\n",
              "      <th>Сбор и обработка данных с помощью краудсорсинга</th>\n",
              "      <th>Безопасность компьютерных систем</th>\n",
              "      <th>Компьютерные сети</th>\n",
              "      <th>Дополнительные главы прикладной статистики</th>\n",
              "      <th>Системы баз данных</th>\n",
              "      <th></th>\n",
              "      <td>2</td>\n",
              "    </tr>\n",
              "    <tr>\n",
              "      <th>Сбор и обработка данных с помощью краудсорсинга</th>\n",
              "      <th>Язык SQL</th>\n",
              "      <th>Теория баз данных</th>\n",
              "      <th>Промышленное программирование на языке Java</th>\n",
              "      <th>Машинное обучение 2</th>\n",
              "      <th>Компьютерные сети</th>\n",
              "      <th></th>\n",
              "      <td>2</td>\n",
              "    </tr>\n",
              "    <tr>\n",
              "      <th>Язык SQL</th>\n",
              "      <th>Высокопроизводительные вычисления</th>\n",
              "      <th>Теория баз данных</th>\n",
              "      <th>Компьютерные сети</th>\n",
              "      <th>Промышленное программирование на языке Java</th>\n",
              "      <th>Дискретная оптимизация</th>\n",
              "      <th></th>\n",
              "      <td>2</td>\n",
              "    </tr>\n",
              "  </tbody>\n",
              "</table>\n",
              "</div>\n",
              "      <button class=\"colab-df-convert\" onclick=\"convertToInteractive('df-c8ccddb8-06bf-49b6-a5ee-221529eacc74')\"\n",
              "              title=\"Convert this dataframe to an interactive table.\"\n",
              "              style=\"display:none;\">\n",
              "        \n",
              "  <svg xmlns=\"http://www.w3.org/2000/svg\" height=\"24px\"viewBox=\"0 0 24 24\"\n",
              "       width=\"24px\">\n",
              "    <path d=\"M0 0h24v24H0V0z\" fill=\"none\"/>\n",
              "    <path d=\"M18.56 5.44l.94 2.06.94-2.06 2.06-.94-2.06-.94-.94-2.06-.94 2.06-2.06.94zm-11 1L8.5 8.5l.94-2.06 2.06-.94-2.06-.94L8.5 2.5l-.94 2.06-2.06.94zm10 10l.94 2.06.94-2.06 2.06-.94-2.06-.94-.94-2.06-.94 2.06-2.06.94z\"/><path d=\"M17.41 7.96l-1.37-1.37c-.4-.4-.92-.59-1.43-.59-.52 0-1.04.2-1.43.59L10.3 9.45l-7.72 7.72c-.78.78-.78 2.05 0 2.83L4 21.41c.39.39.9.59 1.41.59.51 0 1.02-.2 1.41-.59l7.78-7.78 2.81-2.81c.8-.78.8-2.07 0-2.86zM5.41 20L4 18.59l7.72-7.72 1.47 1.35L5.41 20z\"/>\n",
              "  </svg>\n",
              "      </button>\n",
              "      \n",
              "  <style>\n",
              "    .colab-df-container {\n",
              "      display:flex;\n",
              "      flex-wrap:wrap;\n",
              "      gap: 12px;\n",
              "    }\n",
              "\n",
              "    .colab-df-convert {\n",
              "      background-color: #E8F0FE;\n",
              "      border: none;\n",
              "      border-radius: 50%;\n",
              "      cursor: pointer;\n",
              "      display: none;\n",
              "      fill: #1967D2;\n",
              "      height: 32px;\n",
              "      padding: 0 0 0 0;\n",
              "      width: 32px;\n",
              "    }\n",
              "\n",
              "    .colab-df-convert:hover {\n",
              "      background-color: #E2EBFA;\n",
              "      box-shadow: 0px 1px 2px rgba(60, 64, 67, 0.3), 0px 1px 3px 1px rgba(60, 64, 67, 0.15);\n",
              "      fill: #174EA6;\n",
              "    }\n",
              "\n",
              "    [theme=dark] .colab-df-convert {\n",
              "      background-color: #3B4455;\n",
              "      fill: #D2E3FC;\n",
              "    }\n",
              "\n",
              "    [theme=dark] .colab-df-convert:hover {\n",
              "      background-color: #434B5C;\n",
              "      box-shadow: 0px 1px 3px 1px rgba(0, 0, 0, 0.15);\n",
              "      filter: drop-shadow(0px 1px 2px rgba(0, 0, 0, 0.3));\n",
              "      fill: #FFFFFF;\n",
              "    }\n",
              "  </style>\n",
              "\n",
              "      <script>\n",
              "        const buttonEl =\n",
              "          document.querySelector('#df-c8ccddb8-06bf-49b6-a5ee-221529eacc74 button.colab-df-convert');\n",
              "        buttonEl.style.display =\n",
              "          google.colab.kernel.accessAllowed ? 'block' : 'none';\n",
              "\n",
              "        async function convertToInteractive(key) {\n",
              "          const element = document.querySelector('#df-c8ccddb8-06bf-49b6-a5ee-221529eacc74');\n",
              "          const dataTable =\n",
              "            await google.colab.kernel.invokeFunction('convertToInteractive',\n",
              "                                                     [key], {});\n",
              "          if (!dataTable) return;\n",
              "\n",
              "          const docLinkHtml = 'Like what you see? Visit the ' +\n",
              "            '<a target=\"_blank\" href=https://colab.research.google.com/notebooks/data_table.ipynb>data table notebook</a>'\n",
              "            + ' to learn more about interactive tables.';\n",
              "          element.innerHTML = '';\n",
              "          dataTable['output_type'] = 'display_data';\n",
              "          await google.colab.output.renderOutput(dataTable, element);\n",
              "          const docLink = document.createElement('div');\n",
              "          docLink.innerHTML = docLinkHtml;\n",
              "          element.appendChild(docLink);\n",
              "        }\n",
              "      </script>\n",
              "    </div>\n",
              "  </div>\n",
              "  "
            ]
          },
          "metadata": {},
          "execution_count": 1664
        }
      ]
    },
    {
      "cell_type": "markdown",
      "source": [
        "Ответы:\n",
        "\n",
        "Есть студенты с абсолютно одинаковыми предпочтениями по всем курсам. Таких наборов 15."
      ],
      "metadata": {
        "id": "7JwBhE5uTcYr"
      }
    },
    {
      "cell_type": "markdown",
      "metadata": {
        "id": "spu3r3vchLu0"
      },
      "source": [
        "#### 7. Найдите курсы по выбору, на которые записывались как студенты 18-го года набора, так и студенты 17-го года (0.5 балла)"
      ]
    },
    {
      "cell_type": "code",
      "metadata": {
        "id": "t21fWi8ShLu0"
      },
      "source": [
        "courses_18 = pd.unique(df[df['18_group'] > 0][cols].values.ravel())\n",
        "courses_set_18 = set(courses_18)\n",
        "courses_set_18.discard('')"
      ],
      "execution_count": 1665,
      "outputs": []
    },
    {
      "cell_type": "code",
      "source": [
        "courses_17 = pd.unique(df[df['17_group'] > 0][cols].values.ravel())\n",
        "courses_set_17 = set(courses_17)"
      ],
      "metadata": {
        "id": "yPRmo6xV2jdu"
      },
      "execution_count": 1666,
      "outputs": []
    },
    {
      "cell_type": "code",
      "source": [
        "courses_set_18 & courses_set_17 # курсы, на которые записывались как студенты 18-го года набора, так и студенты 17-го года"
      ],
      "metadata": {
        "colab": {
          "base_uri": "https://localhost:8080/"
        },
        "id": "ltba7_D_2lS9",
        "outputId": "2e141890-2f4a-4284-a4d9-5340d000675d"
      },
      "execution_count": 1667,
      "outputs": [
        {
          "output_type": "execute_result",
          "data": {
            "text/plain": [
              "{'Statistical Learning Theory',\n",
              " 'Безопасность компьютерных систем',\n",
              " 'Высокопроизводительные вычисления',\n",
              " 'Моделирование временных рядов',\n",
              " 'Принятие решений в условиях риска и неопределённости',\n",
              " 'Сбор и обработка данных с помощью краудсорсинга',\n",
              " 'Численные методы'}"
            ]
          },
          "metadata": {},
          "execution_count": 1667
        }
      ]
    },
    {
      "cell_type": "markdown",
      "metadata": {
        "id": "PYfX-Dr5hLu0"
      },
      "source": [
        "Методом исключения найдите курсы, которые предлагались только студентам 18-го года и только студентам 17-го года."
      ]
    },
    {
      "cell_type": "code",
      "metadata": {
        "id": "G9SWBOpehLu1",
        "colab": {
          "base_uri": "https://localhost:8080/"
        },
        "outputId": "21d50041-d8b2-4057-bcaf-0f035c32c166"
      },
      "source": [
        "courses_set_18 - courses_set_17 # только 18 год"
      ],
      "execution_count": 1668,
      "outputs": [
        {
          "output_type": "execute_result",
          "data": {
            "text/plain": [
              "{'Анализ данных в бизнесе',\n",
              " 'Дискретная оптимизация',\n",
              " 'Дополнительные главы прикладной статистики',\n",
              " 'Компьютерные сети',\n",
              " 'Матричные вычисления',\n",
              " 'Машинное обучение 2',\n",
              " 'Промышленное программирование на языке Java',\n",
              " 'Системы баз данных',\n",
              " 'Теория баз данных',\n",
              " 'Язык SQL'}"
            ]
          },
          "metadata": {},
          "execution_count": 1668
        }
      ]
    },
    {
      "cell_type": "code",
      "source": [
        "courses_set_17 - courses_set_18 # только 17 год"
      ],
      "metadata": {
        "colab": {
          "base_uri": "https://localhost:8080/"
        },
        "id": "6NOufpXt5goW",
        "outputId": "4fbe0a34-3508-4575-ef6c-42b2d9309619"
      },
      "execution_count": 1669,
      "outputs": [
        {
          "output_type": "execute_result",
          "data": {
            "text/plain": [
              "{'DevOps',\n",
              " 'Анализ неструктурированных данных',\n",
              " 'Байесовские методы машинного обучения',\n",
              " 'Введение в дифференциальную геометрию',\n",
              " 'Генеративные модели в машинном обучении',\n",
              " 'Глубинное обучение в обработке звука',\n",
              " 'Компьютерное зрение',\n",
              " 'Конфликты и кооперация',\n",
              " 'Методы сжатия и передачи медиаданных',\n",
              " 'Обучение с подкреплением',\n",
              " 'Проектирование и разработка высоконагруженных сервисов',\n",
              " 'Символьные вычисления',\n",
              " 'Соревновательный анализ данных'}"
            ]
          },
          "metadata": {},
          "execution_count": 1669
        }
      ]
    },
    {
      "cell_type": "markdown",
      "metadata": {
        "id": "uL45Tg5fhLu1"
      },
      "source": [
        "### Визуализации и matplotlib"
      ]
    },
    {
      "cell_type": "markdown",
      "metadata": {
        "id": "MY9lKmP2hLu1"
      },
      "source": [
        "При работе с данными часто неудобно делать какие-то выводы, если смотреть на таблицу и числа в частности, поэтому важно уметь визуализировать данные. Здесь будут описаны ключевые правила оформления графиков для **всех** домашних заданий.\n",
        "\n",
        "У matplotlib, конечно же, есть [документация](https://matplotlib.org/users/index.html) с большим количеством [примеров](https://matplotlib.org/examples/), но для начала достаточно знать про несколько основных типов графиков:\n",
        "- plot — обычный поточечный график, которым можно изображать кривые или отдельные точки;\n",
        "- hist — гистограмма, показывающая распределение некоторой величины;\n",
        "- scatter — график, показывающий взаимосвязь двух величин;\n",
        "- bar — столбцовый график, показывающий взаимосвязь количественной величины от категориальной.\n",
        "\n",
        "В этом задании вы попробуете построить один из них. Не забывайте про базовые принципы построения приличных графиков:\n",
        "- оси должны быть подписаны, причём не слишком мелко;\n",
        "- у графика должно быть название;\n",
        "- если изображено несколько графиков, то необходима поясняющая легенда;\n",
        "- все линии на графиках должны быть чётко видны (нет похожих цветов или цветов, сливающихся с фоном);\n",
        "- если отображена величина, имеющая очевидный диапазон значений (например, проценты могут быть от 0 до 100), то желательно масштабировать ось на весь диапазон значений (исключением является случай, когда вам необходимо показать малое отличие, которое незаметно в таких масштабах);\n",
        "- сетка на графике помогает оценить значения в точках на глаз, это обычно полезно, поэтому лучше ее отрисовывать;\n",
        "- если распределение на гистограмме имеет тяжёлые хвосты, лучше использовать логарифмическую шкалу.\n",
        "\n",
        "Полезные строчки:\n",
        "- для красивой картинки <code>%config InlineBackend.figure_format = 'retina'</code>\n",
        "- задаем размер (почти) всех графиков (можно выбрать другие значения) <code>plt.rcParams['figure.figsize'] = 8, 5</code>\n",
        "- размер шрифта подписей графиков <code>plt.rcParams['font.size'] = 12</code>\n",
        "- формат в котором сохраняется изображение <code>mpl.rcParams['savefig.format'] = 'pdf'</code>\n",
        "- sns – seaborn, добавляет решетку <code>sns.set_style('darkgrid')</code>"
      ]
    },
    {
      "cell_type": "code",
      "metadata": {
        "id": "na9doUOFhLu1"
      },
      "source": [
        "import matplotlib.pyplot as plt\n",
        "import matplotlib as mpl\n",
        "import seaborn as sns"
      ],
      "execution_count": 1670,
      "outputs": []
    },
    {
      "cell_type": "code",
      "source": [
        "%config InlineBackend.figure_format = 'retina'\n",
        "plt.rcParams['figure.figsize'] = 10, 6\n",
        "plt.rcParams['font.size'] = 14\n",
        "mpl.rcParams['savefig.format'] = 'pdf'\n",
        "sns.set_style('darkgrid')"
      ],
      "metadata": {
        "id": "jmKtFLnb6SOB"
      },
      "execution_count": 1671,
      "outputs": []
    },
    {
      "cell_type": "markdown",
      "metadata": {
        "id": "kikwLpxfhLu1"
      },
      "source": [
        "#### 8. Постройте график средних рейтингов по дням получения ответов (bar plot) (0.5 балла)."
      ]
    },
    {
      "cell_type": "code",
      "source": [
        "ratings = df[['timestamp', 'rating']].copy()\n",
        "ratings['timestamp'] = ratings['timestamp'].dt.date\n",
        "plot_data = ratings.groupby('timestamp').mean()"
      ],
      "metadata": {
        "id": "NIW6GTy4_gL2"
      },
      "execution_count": 1672,
      "outputs": []
    },
    {
      "cell_type": "code",
      "source": [
        "plot_data"
      ],
      "metadata": {
        "colab": {
          "base_uri": "https://localhost:8080/",
          "height": 394
        },
        "id": "T97hkQXeD7KK",
        "outputId": "2ba65e98-5c21-4f72-d91d-0f0158527e9e"
      },
      "execution_count": 1673,
      "outputs": [
        {
          "output_type": "execute_result",
          "data": {
            "text/plain": [
              "                 rating\n",
              "timestamp              \n",
              "2020-05-14  1160.277778\n",
              "2020-05-15   719.866667\n",
              "2020-05-16   736.400000\n",
              "2020-05-17   915.027027\n",
              "2020-05-18   827.352679\n",
              "2020-05-19   761.142857\n",
              "2020-05-20   689.500000\n",
              "2020-05-21   584.000000\n",
              "2020-05-23  1080.500000\n",
              "2020-05-24   670.500000"
            ],
            "text/html": [
              "\n",
              "  <div id=\"df-6d51e146-e960-4ce8-a5a6-3b92264b26f3\">\n",
              "    <div class=\"colab-df-container\">\n",
              "      <div>\n",
              "<style scoped>\n",
              "    .dataframe tbody tr th:only-of-type {\n",
              "        vertical-align: middle;\n",
              "    }\n",
              "\n",
              "    .dataframe tbody tr th {\n",
              "        vertical-align: top;\n",
              "    }\n",
              "\n",
              "    .dataframe thead th {\n",
              "        text-align: right;\n",
              "    }\n",
              "</style>\n",
              "<table border=\"1\" class=\"dataframe\">\n",
              "  <thead>\n",
              "    <tr style=\"text-align: right;\">\n",
              "      <th></th>\n",
              "      <th>rating</th>\n",
              "    </tr>\n",
              "    <tr>\n",
              "      <th>timestamp</th>\n",
              "      <th></th>\n",
              "    </tr>\n",
              "  </thead>\n",
              "  <tbody>\n",
              "    <tr>\n",
              "      <th>2020-05-14</th>\n",
              "      <td>1160.277778</td>\n",
              "    </tr>\n",
              "    <tr>\n",
              "      <th>2020-05-15</th>\n",
              "      <td>719.866667</td>\n",
              "    </tr>\n",
              "    <tr>\n",
              "      <th>2020-05-16</th>\n",
              "      <td>736.400000</td>\n",
              "    </tr>\n",
              "    <tr>\n",
              "      <th>2020-05-17</th>\n",
              "      <td>915.027027</td>\n",
              "    </tr>\n",
              "    <tr>\n",
              "      <th>2020-05-18</th>\n",
              "      <td>827.352679</td>\n",
              "    </tr>\n",
              "    <tr>\n",
              "      <th>2020-05-19</th>\n",
              "      <td>761.142857</td>\n",
              "    </tr>\n",
              "    <tr>\n",
              "      <th>2020-05-20</th>\n",
              "      <td>689.500000</td>\n",
              "    </tr>\n",
              "    <tr>\n",
              "      <th>2020-05-21</th>\n",
              "      <td>584.000000</td>\n",
              "    </tr>\n",
              "    <tr>\n",
              "      <th>2020-05-23</th>\n",
              "      <td>1080.500000</td>\n",
              "    </tr>\n",
              "    <tr>\n",
              "      <th>2020-05-24</th>\n",
              "      <td>670.500000</td>\n",
              "    </tr>\n",
              "  </tbody>\n",
              "</table>\n",
              "</div>\n",
              "      <button class=\"colab-df-convert\" onclick=\"convertToInteractive('df-6d51e146-e960-4ce8-a5a6-3b92264b26f3')\"\n",
              "              title=\"Convert this dataframe to an interactive table.\"\n",
              "              style=\"display:none;\">\n",
              "        \n",
              "  <svg xmlns=\"http://www.w3.org/2000/svg\" height=\"24px\"viewBox=\"0 0 24 24\"\n",
              "       width=\"24px\">\n",
              "    <path d=\"M0 0h24v24H0V0z\" fill=\"none\"/>\n",
              "    <path d=\"M18.56 5.44l.94 2.06.94-2.06 2.06-.94-2.06-.94-.94-2.06-.94 2.06-2.06.94zm-11 1L8.5 8.5l.94-2.06 2.06-.94-2.06-.94L8.5 2.5l-.94 2.06-2.06.94zm10 10l.94 2.06.94-2.06 2.06-.94-2.06-.94-.94-2.06-.94 2.06-2.06.94z\"/><path d=\"M17.41 7.96l-1.37-1.37c-.4-.4-.92-.59-1.43-.59-.52 0-1.04.2-1.43.59L10.3 9.45l-7.72 7.72c-.78.78-.78 2.05 0 2.83L4 21.41c.39.39.9.59 1.41.59.51 0 1.02-.2 1.41-.59l7.78-7.78 2.81-2.81c.8-.78.8-2.07 0-2.86zM5.41 20L4 18.59l7.72-7.72 1.47 1.35L5.41 20z\"/>\n",
              "  </svg>\n",
              "      </button>\n",
              "      \n",
              "  <style>\n",
              "    .colab-df-container {\n",
              "      display:flex;\n",
              "      flex-wrap:wrap;\n",
              "      gap: 12px;\n",
              "    }\n",
              "\n",
              "    .colab-df-convert {\n",
              "      background-color: #E8F0FE;\n",
              "      border: none;\n",
              "      border-radius: 50%;\n",
              "      cursor: pointer;\n",
              "      display: none;\n",
              "      fill: #1967D2;\n",
              "      height: 32px;\n",
              "      padding: 0 0 0 0;\n",
              "      width: 32px;\n",
              "    }\n",
              "\n",
              "    .colab-df-convert:hover {\n",
              "      background-color: #E2EBFA;\n",
              "      box-shadow: 0px 1px 2px rgba(60, 64, 67, 0.3), 0px 1px 3px 1px rgba(60, 64, 67, 0.15);\n",
              "      fill: #174EA6;\n",
              "    }\n",
              "\n",
              "    [theme=dark] .colab-df-convert {\n",
              "      background-color: #3B4455;\n",
              "      fill: #D2E3FC;\n",
              "    }\n",
              "\n",
              "    [theme=dark] .colab-df-convert:hover {\n",
              "      background-color: #434B5C;\n",
              "      box-shadow: 0px 1px 3px 1px rgba(0, 0, 0, 0.15);\n",
              "      filter: drop-shadow(0px 1px 2px rgba(0, 0, 0, 0.3));\n",
              "      fill: #FFFFFF;\n",
              "    }\n",
              "  </style>\n",
              "\n",
              "      <script>\n",
              "        const buttonEl =\n",
              "          document.querySelector('#df-6d51e146-e960-4ce8-a5a6-3b92264b26f3 button.colab-df-convert');\n",
              "        buttonEl.style.display =\n",
              "          google.colab.kernel.accessAllowed ? 'block' : 'none';\n",
              "\n",
              "        async function convertToInteractive(key) {\n",
              "          const element = document.querySelector('#df-6d51e146-e960-4ce8-a5a6-3b92264b26f3');\n",
              "          const dataTable =\n",
              "            await google.colab.kernel.invokeFunction('convertToInteractive',\n",
              "                                                     [key], {});\n",
              "          if (!dataTable) return;\n",
              "\n",
              "          const docLinkHtml = 'Like what you see? Visit the ' +\n",
              "            '<a target=\"_blank\" href=https://colab.research.google.com/notebooks/data_table.ipynb>data table notebook</a>'\n",
              "            + ' to learn more about interactive tables.';\n",
              "          element.innerHTML = '';\n",
              "          dataTable['output_type'] = 'display_data';\n",
              "          await google.colab.output.renderOutput(dataTable, element);\n",
              "          const docLink = document.createElement('div');\n",
              "          docLink.innerHTML = docLinkHtml;\n",
              "          element.appendChild(docLink);\n",
              "        }\n",
              "      </script>\n",
              "    </div>\n",
              "  </div>\n",
              "  "
            ]
          },
          "metadata": {},
          "execution_count": 1673
        }
      ]
    },
    {
      "cell_type": "code",
      "metadata": {
        "id": "UTPLVeQvhLu2",
        "colab": {
          "base_uri": "https://localhost:8080/",
          "height": 443
        },
        "outputId": "a73adeb7-8317-4c10-f117-c442a4a2feeb"
      },
      "source": [
        "plt.bar(x=plot_data.index, height=plot_data.rating, width=1.0)\n",
        "plt.title('Столбчатая диаграмма средних значений рейтингов по дням получения ответов')\n",
        "plt.ylabel('Среднее значение рейтинга')\n",
        "plt.xlabel('День')\n",
        "plt.xticks(plot_data.index, rotation=20)\n",
        "plt.plot()\n",
        "plt.savefig('bar_plot')"
      ],
      "execution_count": 1674,
      "outputs": [
        {
          "output_type": "display_data",
          "data": {
            "text/plain": [
              "<Figure size 720x432 with 1 Axes>"
            ],
            "image/png": "[encoded data removed]"
          },
          "metadata": {
            "image/png": {
              "width": 738,
              "height": 426
            }
          }
        }
      ]
    },
    {
      "cell_type": "markdown",
      "metadata": {
        "id": "AmsQg9_xhLu2"
      },
      "source": [
        "Сохраните график в формате pdf (так он останется векторизованным)."
      ]
    },
    {
      "cell_type": "markdown",
      "metadata": {
        "id": "b7SBV6_GhLu2"
      },
      "source": [
        "Еще одна билиотека для визуализации: [seaborn](https://jakevdp.github.io/PythonDataScienceHandbook/04.14-visualization-with-seaborn.html). Это настройка над matplotlib, иногда удобнее и красивее делать визуализации через неё. "
      ]
    },
    {
      "cell_type": "markdown",
      "metadata": {
        "id": "sCgWwjl0hLu2"
      },
      "source": [
        "### 2. Распределение студентов по курсам."
      ]
    },
    {
      "cell_type": "markdown",
      "metadata": {
        "id": "VNqXUpr4hLu3"
      },
      "source": [
        "Теперь вам нужно распределить студентов по осенним курсам по выбору, учитывая их предпочтения."
      ]
    },
    {
      "cell_type": "markdown",
      "metadata": {
        "id": "5cAR2FgphLu3"
      },
      "source": [
        "Алгоритм распределения студентов по курсам:\n",
        "1. По умолчанию на каждой дисциплине по выбору у 3 и 4 курсов может учиться 1 группа (до 30 студентов). Исключения описаны ниже. На blended-дисциплинах для четверокурсников количество мест не ограничено.\n",
        "2. Проводится первая волна отбора. Для каждой дисциплины формируется список тех, кто указал её первым приоритетом (если студент должен выбрать два курса по выбору, то для него дисциплины, которые он указал первым и вторым приоритетом, рассматриваются как дисциплины первого приоритета). Если желающих больше, чем мест, то выбирается топ по перцентилю рейтинга.\n",
        "3. На дисциплинах, где остались места после первой волны, формируются списки тех, кто выбрал их вторым приоритетом, и места заполняются лучшими по перцентили рейтинга студентами. После этого проводится такая же процедура для дисциплин третьего приоритета.\n",
        "4. Если студент не попал на необходимое количество курсов по итогам трёх волн, с ним связывается учебный офис и решает вопрос в индивидуальном порядке."
      ]
    },
    {
      "cell_type": "markdown",
      "metadata": {
        "id": "BiNKVwS6hLu3"
      },
      "source": [
        "Обращаем ваше внимание на следующие детали:\n",
        "\n",
        "- По умолчанию студент выбирает один осенний и один весенний курс по выбору, а также четверокурсники выбирают один blended-курс. Студенты групп 17-го года специализаций МОП и ТИ выбирают по 2 осенних и 2 весенних курса по выбору, также студенты групп 18' специализации МИ выбирают 2 осенних курса. <i>Для студентов, которые выбирают 2 курса (например, осенних) первый приоритет — <code>fall_1</code> и <code>fall_2</code>, второй приоритет — <code>fall_3</code>. Такие студенты участвуют только в двух волнах отбора</i>.\n",
        "\n",
        "- Студенты специализации МОП не могут выбрать весенним курсом по выбору Машинное обучение 2. <i>Если студент специализации МОП выбрал Машинное обучение 2, то его приоритеты сдвигаются. Из-за совпадений первого и второго курса по выбору двигать приоритеты не надо</i>.\n",
        "\n",
        "- Blended-курсы не трогайте, по ним не надо распределять, на другие курсы они никак не влияют.\n",
        "\n",
        "- Постарайтесь воздержаться от использования циклов там, где это возможно. <i>Допустимо итерироваться по <b>курсам</b>, на которые проводится отбор, и по <b>волнам</b> отбора. Если вы придумаете, как обойтись и без этих циклов, то на усмотрение проверяющего могут быть добавлены бонусные баллы. <b>Дублирование кода не признается успешным избавлением от циклов</b></i>\n",
        "\n",
        "- На выходе ожидается файл res_fall.csv с результатами распределения на осенние курсы по выбору. Файл должен быть следующего формата:\n",
        "\n",
        "    * три столбца: ID, course1, course2\n",
        "    \n",
        "    * Если студент не попал на курс, но должен был, то вместо названия курса в ячейке должна быть строка \"???\"\n",
        "    \n",
        "    * Если студент должен выбрать только один курс, то в колонке course2 для него должна стоять строка \"-\"\n",
        "    \n",
        "    * Если студент должен выбрать два курса по выбору, то порядок в колонках course1 и course2 не важен.\n",
        "    \n",
        "    * Формат csv: для сохранения воспользуйтесь df.to_csv('solution.csv', index=None)\n",
        "    \n",
        "\n",
        "Для работы вам могут понадобиться следующие данные:\n",
        "\n",
        "- Результаты опроса (вы уже использовали этот файл в первой части задания, но на всякий случай ссылка: https://www.dropbox.com/s/f4rm8sjc3v99p0m/_end_seminar.xlsx?dl=0)\n",
        "\n",
        "- Соответствие номеров групп специализациям:\n",
        "\n",
        "    * 171, 172 - МОП; 173 - ТИ; 174 — АДИС; 175, 176 — РС; 177 — АПР\n",
        "    \n",
        "    * У студентов 18-го года номера групп соответствуют номерам до распределения по специализациям.\n",
        "\n",
        "- Ограничения по количеству мест на курсах по выбору:\n",
        "\n",
        "    * Осенние: везде 30 мест, кроме Statistical Learning Theory (60 мест), Высокопроизводительных вычислений (60 мест), Анализа неструктурированных данных ($\\infty$ мест)\n",
        "\n",
        "    * Весенние: везде 30 мест, кроме Обучения с подкреплением (60 мест), Анализа данных в бизнесе (60 мест).\n",
        "\n",
        "\n",
        "Кстати, убедитесь, что в данных больше нет пропусков и повторных записей."
      ]
    },
    {
      "cell_type": "markdown",
      "metadata": {
        "id": "o5t55IcQhLu4"
      },
      "source": [
        "#### 0. Проверка\n",
        "\n",
        "Для начала давайте убедимся, что вы успешно выполнили задания первой части и проверим ваши данные на наличие пропусков и повторов:"
      ]
    },
    {
      "cell_type": "code",
      "metadata": {
        "id": "34HWEdVdhLu4"
      },
      "source": [
        "# не удаляйте этот код, и вообще любой, который здесь уже написан -- он нужен для проверки ваших решений\n",
        "assert df.shape[0] == 347, 'В таблице остались повторы или потеряны данные'\n",
        "\n",
        "assert df.isna().sum().sum() == 0, 'В таблице остались пропуски'"
      ],
      "execution_count": 1675,
      "outputs": []
    },
    {
      "cell_type": "markdown",
      "metadata": {
        "id": "_ImUFyG3hLu4"
      },
      "source": [
        "Если вы не получили AssertionError, то можете продолжать."
      ]
    },
    {
      "cell_type": "markdown",
      "metadata": {
        "id": "LTGSwwvAhLu4"
      },
      "source": [
        "#### 1. Создайте новый признак, обозначающий, сколько осенних курсов должен выбрать студент (1 балл)\n",
        "\n",
        "В этом вам может помочь информация о специализации и группе студента."
      ]
    },
    {
      "cell_type": "code",
      "metadata": {
        "id": "ouxo0kHFhLu4"
      },
      "source": [
        "MOP = set([171, 172])\n",
        "TI = set([173])\n",
        "ADIS = set([174])\n",
        "RS = set([175, 176])\n",
        "APR = set([177])"
      ],
      "execution_count": 1676,
      "outputs": []
    },
    {
      "cell_type": "code",
      "source": [
        "df['num_fall_courses'] = 1"
      ],
      "metadata": {
        "id": "MY0BcZGD0cxs"
      },
      "execution_count": 1677,
      "outputs": []
    },
    {
      "cell_type": "code",
      "source": [
        "df.loc[df['17_group'].isin(MOP | TI), 'num_fall_courses'] += 1\n",
        "df.loc[(df['18_group'] > 0) & (df['is_mi'] == 1.0), 'num_fall_courses'] += 1"
      ],
      "metadata": {
        "id": "Aum1eJbWz-U_"
      },
      "execution_count": 1678,
      "outputs": []
    },
    {
      "cell_type": "markdown",
      "metadata": {
        "id": "S47aq1sQhLu4"
      },
      "source": [
        "Проверка:"
      ]
    },
    {
      "cell_type": "code",
      "metadata": {
        "id": "OlOgzDKDhLu5"
      },
      "source": [
        "col_name = 'num_fall_courses'\n",
        "\n",
        "assert(df[df['id'] == '2662600c2c37e11e62f6ee0b88452f22'][col_name] == 2).all()\n",
        "assert(df[df['id'] == 'd555d2805e1d93d4f023e57dc4c8f403'][col_name] == 2).all()\n",
        "assert(df[df['id'] == '8fe79f84f36e3a5d2d6745621321302c'][col_name] == 1).all()\n",
        "assert(df[df['id'] == 'e4caca755ee0bdd711e18fb8084958b5'][col_name] == 1).all()"
      ],
      "execution_count": 1679,
      "outputs": []
    },
    {
      "cell_type": "markdown",
      "metadata": {
        "id": "VtQYhwuPhLu5"
      },
      "source": [
        "#### 2. Распределите студентов в соответствии с первым приоритетом (2 балла)"
      ]
    },
    {
      "cell_type": "code",
      "metadata": {
        "id": "6gWfT3vqhLu5"
      },
      "source": [
        "fall = ['fall_1', 'fall_2', 'fall_3']"
      ],
      "execution_count": 1680,
      "outputs": []
    },
    {
      "cell_type": "code",
      "source": [
        "fall_courses = dict.fromkeys(df[fall].values.ravel(), 30)\n",
        "fall_courses['Statistical Learning Theory'] = 60\n",
        "fall_courses['Высокопроизводительные вычисления'] = 60\n",
        "fall_courses['Анализ неструктурированных данных'] = float('inf')"
      ],
      "metadata": {
        "id": "GtV6ULejQ0wI"
      },
      "execution_count": 1681,
      "outputs": []
    },
    {
      "cell_type": "code",
      "source": [
        "fall_courses"
      ],
      "metadata": {
        "colab": {
          "base_uri": "https://localhost:8080/"
        },
        "id": "8aiuxN4JQ5Qk",
        "outputId": "06d0398a-63a9-4625-a88e-259733e3a52f"
      },
      "execution_count": 1682,
      "outputs": [
        {
          "output_type": "execute_result",
          "data": {
            "text/plain": [
              "{'Язык SQL': 30,\n",
              " 'Высокопроизводительные вычисления': 60,\n",
              " 'Матричные вычисления': 30,\n",
              " 'Безопасность компьютерных систем': 30,\n",
              " 'Моделирование временных рядов': 30,\n",
              " 'Statistical Learning Theory': 60,\n",
              " 'Теория баз данных': 30,\n",
              " 'Сбор и обработка данных с помощью краудсорсинга': 30,\n",
              " 'Принятие решений в условиях риска и неопределённости': 30,\n",
              " 'Глубинное обучение в обработке звука': 30,\n",
              " 'Байесовские методы машинного обучения': 30,\n",
              " 'Анализ неструктурированных данных': inf}"
            ]
          },
          "metadata": {},
          "execution_count": 1682
        }
      ]
    },
    {
      "cell_type": "code",
      "source": [
        "df['enrolled_fall_1'] = '-'\n",
        "df['enrolled_fall_2'] = '-'"
      ],
      "metadata": {
        "id": "xwvM6nF8PPOA"
      },
      "execution_count": 1683,
      "outputs": []
    },
    {
      "cell_type": "code",
      "source": [
        "chose_fall_1 = df.groupby('fall_1').count()['id'] # количество выборов в первой волне\n",
        "chose_fall_1 += df[df['num_fall_courses'] == 2][['id', 'fall_2']].groupby('fall_2').count()['id'] # учитываем тех, кому нужно выбрать 2 курса в качестве первого приоритета"
      ],
      "metadata": {
        "id": "TbXwCzO59Pij"
      },
      "execution_count": 1684,
      "outputs": []
    },
    {
      "cell_type": "code",
      "source": [
        "import numpy as np\n",
        "\n",
        "# создание доп. столбцов для проверки\n",
        "df['is_first_place'] = np.nan\n",
        "df['is_last_place'] = np.nan\n",
        "\n",
        "not_accepted = df[['id', 'num_fall_courses']] # студенты, которых не распределили по курсам\n",
        "\n",
        "for course in fall_courses:\n",
        "    # кандидаты на зачисление в первой волне\n",
        "    candidates = df[\n",
        "        (df['fall_1'] == course) | ((df['fall_2'] == course) & (df['num_fall_courses'] == 2))\n",
        "    ][['id', 'percentile']].sort_values('percentile')\n",
        "\n",
        "    places_amount = min(chose_fall_1[course], fall_courses[course]) # берем минимум из кол-ва свободных мест и кол-ва записавшихся студентов\n",
        "    top_n_students = candidates[:places_amount]['id'].tolist()\n",
        "\n",
        "    df.loc[\n",
        "        (df['id'].isin(top_n_students)) & (df['enrolled_fall_1'] == '-'),\n",
        "        'enrolled_fall_1'\n",
        "    ] = course\n",
        "\n",
        "    df.loc[\n",
        "        (df['id'].isin(top_n_students)) & (~df['enrolled_fall_1'].isin(['-', course])),\n",
        "        'enrolled_fall_2'\n",
        "    ] = course\n",
        "\n",
        "    fall_courses[course] -= places_amount\n",
        "    not_accepted.loc[not_accepted['id'].isin(top_n_students), 'num_fall_courses'] -= 1\n",
        "\n",
        "    # определение лучших и худших студентов для проверки\n",
        "    df.loc[df['id'] == top_n_students[0], 'is_first_place'] = True\n",
        "    df.loc[df['id'] == top_n_students[-1], 'is_last_place'] = True"
      ],
      "metadata": {
        "id": "lAk-Np8aN2Rg",
        "colab": {
          "base_uri": "https://localhost:8080/"
        },
        "outputId": "27d0f2b5-1aad-4475-83f2-0b5ae7ad8c1b"
      },
      "execution_count": 1685,
      "outputs": [
        {
          "output_type": "stream",
          "name": "stderr",
          "text": [
            "/usr/local/lib/python3.9/dist-packages/pandas/core/indexing.py:1773: SettingWithCopyWarning: \n",
            "A value is trying to be set on a copy of a slice from a DataFrame.\n",
            "Try using .loc[row_indexer,col_indexer] = value instead\n",
            "\n",
            "See the caveats in the documentation: https://pandas.pydata.org/pandas-docs/stable/user_guide/indexing.html#returning-a-view-versus-a-copy\n",
            "  self._setitem_single_column(ilocs[0], value, pi)\n"
          ]
        }
      ]
    },
    {
      "cell_type": "code",
      "source": [
        "chose_fall_1 # кол-во выборов курсов"
      ],
      "metadata": {
        "colab": {
          "base_uri": "https://localhost:8080/"
        },
        "id": "_LIC3MCwwhhI",
        "outputId": "6d824a91-f999-48fd-c964-f1fcecb6306a"
      },
      "execution_count": 1686,
      "outputs": [
        {
          "output_type": "execute_result",
          "data": {
            "text/plain": [
              "fall_1\n",
              "Statistical Learning Theory                              33\n",
              "Анализ неструктурированных данных                        48\n",
              "Байесовские методы машинного обучения                    24\n",
              "Безопасность компьютерных систем                        116\n",
              "Высокопроизводительные вычисления                        45\n",
              "Глубинное обучение в обработке звука                     23\n",
              "Матричные вычисления                                     15\n",
              "Моделирование временных рядов                            31\n",
              "Принятие решений в условиях риска и неопределённости      8\n",
              "Сбор и обработка данных с помощью краудсорсинга          50\n",
              "Теория баз данных                                        14\n",
              "Язык SQL                                                 29\n",
              "Name: id, dtype: int64"
            ]
          },
          "metadata": {},
          "execution_count": 1686
        }
      ]
    },
    {
      "cell_type": "code",
      "source": [
        "fall_courses # кол-во оставшихся мест"
      ],
      "metadata": {
        "colab": {
          "base_uri": "https://localhost:8080/"
        },
        "id": "-hhQoum9wo_3",
        "outputId": "fee73b16-78a6-44d5-b9cc-29ccc79fec48"
      },
      "execution_count": 1687,
      "outputs": [
        {
          "output_type": "execute_result",
          "data": {
            "text/plain": [
              "{'Язык SQL': 1,\n",
              " 'Высокопроизводительные вычисления': 15,\n",
              " 'Матричные вычисления': 15,\n",
              " 'Безопасность компьютерных систем': 0,\n",
              " 'Моделирование временных рядов': 0,\n",
              " 'Statistical Learning Theory': 27,\n",
              " 'Теория баз данных': 16,\n",
              " 'Сбор и обработка данных с помощью краудсорсинга': 0,\n",
              " 'Принятие решений в условиях риска и неопределённости': 22,\n",
              " 'Глубинное обучение в обработке звука': 7,\n",
              " 'Байесовские методы машинного обучения': 6,\n",
              " 'Анализ неструктурированных данных': inf}"
            ]
          },
          "metadata": {},
          "execution_count": 1687
        }
      ]
    },
    {
      "cell_type": "markdown",
      "metadata": {
        "id": "vc5zXP5hhLu5"
      },
      "source": [
        "Здесь для проверки приведена таблица, в которой есть 2 дополнительные колонки:\n",
        "    \n",
        "    1) is_first_place - является ли студент лучшим по перцентили хотя бы на одном из курсов, куда он был зачислен \n",
        "    (True / NaN)\n",
        "    \n",
        "    2) is_last_place  - является ли студент худшим по перцентили хотя бы на одном из курсов, куда он был зачислен (True / NaN)"
      ]
    },
    {
      "cell_type": "code",
      "metadata": {
        "id": "uZTkGEq5hLu5"
      },
      "source": [
        "!wget  -O '2_task_check.csv' -q 'https://www.dropbox.com/s/v8o2zzq3iz5gc9w/_2_task_check.csv?dl=0'\n",
        "check_df = pd.read_csv('2_task_check.csv')"
      ],
      "execution_count": 1688,
      "outputs": []
    },
    {
      "cell_type": "markdown",
      "metadata": {
        "id": "E_fbyB9qhLu5"
      },
      "source": [
        "После распределения студентов в соответствии с первым приоритетом добавьте в свой датафрейм аналогичные признаки и запустите проверку:"
      ]
    },
    {
      "cell_type": "code",
      "metadata": {
        "id": "GOAzQeYehLu6"
      },
      "source": [
        "fir_col_name = 'is_first_place'\n",
        "last_col_name = 'is_last_place'\n",
        "\n",
        "\n",
        "assert((df[df[fir_col_name].isna() == False][['id']].sort_values('id').reset_index(drop=True)\n",
        "        ==\n",
        "        check_df[check_df['is_first_place'].isna() == False][['id']].sort_values('id').reset_index(drop=True)\n",
        "       ).id.values).all()\n",
        "\n",
        "\n",
        "assert((df[df[last_col_name].isna() == False][['id']].sort_values('id').reset_index(drop=True)\n",
        "       == \n",
        "       check_df[check_df['is_last_place'].isna() == False][['id']].sort_values('id').reset_index(drop=True)\n",
        "      ).id.values).all()"
      ],
      "execution_count": 1689,
      "outputs": []
    },
    {
      "cell_type": "markdown",
      "metadata": {
        "id": "RO6DwNNFhLu6"
      },
      "source": [
        "#### 3. Проведите все три волны отбора студентов на курсы по выбору (3 балла)"
      ]
    },
    {
      "cell_type": "markdown",
      "source": [
        "#### 2 волна"
      ],
      "metadata": {
        "id": "Q8fDlm7uNRf_"
      }
    },
    {
      "cell_type": "code",
      "source": [
        "remaining_students = not_accepted[not_accepted['num_fall_courses'] > 0]['id'].tolist() # студенты, которых нужно распределить\n",
        "\n",
        "chose_fall_2 = df[(df['num_fall_courses'] == 1) & (df['id'].isin(remaining_students))][['id', 'fall_2']].groupby('fall_2').count()['id']\n",
        "chose_fall_2 = chose_fall_2.add(df[(df['num_fall_courses'] == 2) & (df['id'].isin(remaining_students))][['id', 'fall_3']]\\\n",
        "                                                            .groupby('fall_3').count()['id'], fill_value=0).astype('int64')"
      ],
      "metadata": {
        "id": "P5VrZhvJMURb"
      },
      "execution_count": 1690,
      "outputs": []
    },
    {
      "cell_type": "code",
      "metadata": {
        "id": "jn2OOrLjhLu6"
      },
      "source": [
        "for course in fall_courses:\n",
        "    candidates = df[\n",
        "        (df['id'].isin(remaining_students))\n",
        "        & (((df['fall_2'] == course) & (df['num_fall_courses'] == 1)) | ((df['fall_3'] == course) & (df['num_fall_courses'] == 2)))\n",
        "    ][['id', 'percentile']].sort_values('percentile')\n",
        "\n",
        "    places_amount = min(chose_fall_2[course], fall_courses[course])\n",
        "    top_n_students = candidates[:places_amount]['id'].tolist()\n",
        "\n",
        "    df.loc[\n",
        "        (df['id'].isin(top_n_students)) & (df['enrolled_fall_1'] == '-'),\n",
        "        'enrolled_fall_1'\n",
        "    ] = course\n",
        "\n",
        "    df.loc[\n",
        "        (df['id'].isin(top_n_students)) & (df['enrolled_fall_2'] == '-') & (~df['enrolled_fall_1'].isin(['-', course])),\n",
        "        'enrolled_fall_2'\n",
        "    ] = course\n",
        "\n",
        "    fall_courses[course] -= places_amount\n",
        "    not_accepted.loc[not_accepted['id'].isin(top_n_students), 'num_fall_courses'] -= 1"
      ],
      "execution_count": 1691,
      "outputs": []
    },
    {
      "cell_type": "code",
      "source": [
        "chose_fall_2"
      ],
      "metadata": {
        "colab": {
          "base_uri": "https://localhost:8080/"
        },
        "id": "M9TbByXmm9Yj",
        "outputId": "a00ec7bd-26d0-4194-d0f2-3c182e77b29a"
      },
      "execution_count": 1692,
      "outputs": [
        {
          "output_type": "execute_result",
          "data": {
            "text/plain": [
              "Statistical Learning Theory                              8\n",
              "Анализ неструктурированных данных                        5\n",
              "Байесовские методы машинного обучения                    1\n",
              "Безопасность компьютерных систем                         5\n",
              "Высокопроизводительные вычисления                       26\n",
              "Глубинное обучение в обработке звука                     7\n",
              "Матричные вычисления                                     9\n",
              "Моделирование временных рядов                           10\n",
              "Принятие решений в условиях риска и неопределённости     1\n",
              "Сбор и обработка данных с помощью краудсорсинга         15\n",
              "Теория баз данных                                        4\n",
              "Язык SQL                                                14\n",
              "Name: id, dtype: int64"
            ]
          },
          "metadata": {},
          "execution_count": 1692
        }
      ]
    },
    {
      "cell_type": "code",
      "source": [
        "fall_courses"
      ],
      "metadata": {
        "colab": {
          "base_uri": "https://localhost:8080/"
        },
        "id": "DNnm984Ll75f",
        "outputId": "be8d64b4-b330-48bb-ba98-d1a879a30db6"
      },
      "execution_count": 1693,
      "outputs": [
        {
          "output_type": "execute_result",
          "data": {
            "text/plain": [
              "{'Язык SQL': 0,\n",
              " 'Высокопроизводительные вычисления': 0,\n",
              " 'Матричные вычисления': 6,\n",
              " 'Безопасность компьютерных систем': 0,\n",
              " 'Моделирование временных рядов': 0,\n",
              " 'Statistical Learning Theory': 19,\n",
              " 'Теория баз данных': 12,\n",
              " 'Сбор и обработка данных с помощью краудсорсинга': 0,\n",
              " 'Принятие решений в условиях риска и неопределённости': 21,\n",
              " 'Глубинное обучение в обработке звука': 0,\n",
              " 'Байесовские методы машинного обучения': 5,\n",
              " 'Анализ неструктурированных данных': inf}"
            ]
          },
          "metadata": {},
          "execution_count": 1693
        }
      ]
    },
    {
      "cell_type": "markdown",
      "source": [
        "#### 3 волна"
      ],
      "metadata": {
        "id": "hO3mkCalNads"
      }
    },
    {
      "cell_type": "code",
      "source": [
        "remaining_students = not_accepted[not_accepted['num_fall_courses'] > 0]['id'].tolist()\n",
        "chose_fall_3 = df[(df['num_fall_courses'] == 1) & (df['id'].isin(remaining_students))][['id', 'fall_3']]\\\n",
        "                                                                        .groupby('fall_3').count()['id']"
      ],
      "metadata": {
        "id": "aG-Ox-htNdME"
      },
      "execution_count": 1694,
      "outputs": []
    },
    {
      "cell_type": "code",
      "source": [
        "for course in fall_courses:\n",
        "    candidates = df[\n",
        "        (df['id'].isin(remaining_students))\n",
        "        & ((df['fall_3'] == course) & (df['num_fall_courses'] == 1))\n",
        "    ][['id', 'percentile']].sort_values('percentile')\n",
        "\n",
        "    if chose_fall_3.get(course):\n",
        "        places_amount = min(chose_fall_3[course], fall_courses[course])\n",
        "        top_n_students = candidates[:places_amount]['id'].tolist()\n",
        "\n",
        "        df.loc[\n",
        "            (df['id'].isin(top_n_students)) & (df['enrolled_fall_1'] == '-'),\n",
        "            'enrolled_fall_1'\n",
        "        ] = course\n",
        "\n",
        "        df.loc[\n",
        "            (df['id'].isin(top_n_students)) & (df['enrolled_fall_2'] == '-') & (~df['enrolled_fall_1'].isin(['-', course])),\n",
        "            'enrolled_fall_2'\n",
        "        ] = course\n",
        "\n",
        "        fall_courses[course] -= places_amount\n",
        "        not_accepted.loc[not_accepted['id'].isin(top_n_students), 'num_fall_courses'] -= 1"
      ],
      "metadata": {
        "id": "RZA5S5NuNdQ-"
      },
      "execution_count": 1695,
      "outputs": []
    },
    {
      "cell_type": "code",
      "source": [
        "chose_fall_3"
      ],
      "metadata": {
        "colab": {
          "base_uri": "https://localhost:8080/"
        },
        "id": "mdb2Qa2KPSKQ",
        "outputId": "479c5f12-8ad2-464a-9642-480c766ec6a1"
      },
      "execution_count": 1696,
      "outputs": [
        {
          "output_type": "execute_result",
          "data": {
            "text/plain": [
              "fall_3\n",
              "Statistical Learning Theory                              2\n",
              "Анализ неструктурированных данных                        3\n",
              "Высокопроизводительные вычисления                        4\n",
              "Матричные вычисления                                    10\n",
              "Моделирование временных рядов                            3\n",
              "Принятие решений в условиях риска и неопределённости     1\n",
              "Сбор и обработка данных с помощью краудсорсинга          6\n",
              "Теория баз данных                                        6\n",
              "Язык SQL                                                 9\n",
              "Name: id, dtype: int64"
            ]
          },
          "metadata": {},
          "execution_count": 1696
        }
      ]
    },
    {
      "cell_type": "code",
      "source": [
        "fall_courses"
      ],
      "metadata": {
        "colab": {
          "base_uri": "https://localhost:8080/"
        },
        "id": "csCa1av7NdZN",
        "outputId": "f9160e0a-db06-4b52-c9e0-8f41cd456219"
      },
      "execution_count": 1697,
      "outputs": [
        {
          "output_type": "execute_result",
          "data": {
            "text/plain": [
              "{'Язык SQL': 0,\n",
              " 'Высокопроизводительные вычисления': 0,\n",
              " 'Матричные вычисления': 0,\n",
              " 'Безопасность компьютерных систем': 0,\n",
              " 'Моделирование временных рядов': 0,\n",
              " 'Statistical Learning Theory': 17,\n",
              " 'Теория баз данных': 6,\n",
              " 'Сбор и обработка данных с помощью краудсорсинга': 0,\n",
              " 'Принятие решений в условиях риска и неопределённости': 20,\n",
              " 'Глубинное обучение в обработке звука': 0,\n",
              " 'Байесовские методы машинного обучения': 5,\n",
              " 'Анализ неструктурированных данных': inf}"
            ]
          },
          "metadata": {},
          "execution_count": 1697
        }
      ]
    },
    {
      "cell_type": "code",
      "source": [
        "df.loc[df['enrolled_fall_1'] == '-', 'enrolled_fall_1'] = '???' # студенты, которые выбирали 1 курс\n",
        "df.loc[(df['num_fall_courses'] == 2) & (df['enrolled_fall_2'] == '-'), 'enrolled_fall_2'] = '???' # студенты, которые выбирали 2 курса"
      ],
      "metadata": {
        "id": "LDNmIvm9VjSc"
      },
      "execution_count": 1699,
      "outputs": []
    },
    {
      "cell_type": "code",
      "source": [
        "df = df.rename(columns={'enrolled_fall_1': 'course1', 'enrolled_fall_2': 'course2'})"
      ],
      "metadata": {
        "id": "yboAYdJOXoap"
      },
      "execution_count": 1707,
      "outputs": []
    },
    {
      "cell_type": "code",
      "source": [
        "df[['id', 'course1', 'course2']].to_csv('res_fall.csv', index=None)"
      ],
      "metadata": {
        "id": "1s-vYKAfmG99"
      },
      "execution_count": 1709,
      "outputs": []
    },
    {
      "cell_type": "markdown",
      "metadata": {
        "id": "1xQjV9BuhLu6"
      },
      "source": [
        "**Отправьте ссылку на свой файл res_fall.csv в вашу ячейку google-таблицы**"
      ]
    }
  ]
}